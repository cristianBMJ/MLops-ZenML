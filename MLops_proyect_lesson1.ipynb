{
  "nbformat": 4,
  "nbformat_minor": 0,
  "metadata": {
    "colab": {
      "provenance": []
    },
    "kernelspec": {
      "name": "python3",
      "display_name": "Python 3"
    },
    "language_info": {
      "name": "python"
    }
  },
  "cells": [
    {
      "cell_type": "markdown",
      "source": [
        "# Introduction to MLops with zenML\n",
        "\n",
        "## ML Pipelines with ZenML"
      ],
      "metadata": {
        "id": "iqytZc_CKrQM"
      }
    },
    {
      "cell_type": "code",
      "source": [
        "!pip install --upgrade SQLAlchemy==1.4.41\n"
      ],
      "metadata": {
        "colab": {
          "base_uri": "https://localhost:8080/"
        },
        "id": "PFtF4lxLUrux",
        "outputId": "499b6aa9-2982-4f41-b0e9-1f6b31e9e87a"
      },
      "execution_count": 3,
      "outputs": [
        {
          "output_type": "stream",
          "name": "stdout",
          "text": [
            "Requirement already satisfied: SQLAlchemy==1.4.41 in /usr/local/lib/python3.10/dist-packages (1.4.41)\n",
            "Requirement already satisfied: greenlet!=0.4.17 in /usr/local/lib/python3.10/dist-packages (from SQLAlchemy==1.4.41) (3.0.3)\n"
          ]
        }
      ]
    },
    {
      "cell_type": "code",
      "source": [
        "%pip install \"zenml[server]\"\n",
        "!zenml integration install sklearn -y\n",
        "%pip install pyparsing==2.4.2 # requerid for Colab\n",
        "\n",
        "import IPython\n",
        "\n",
        "# Automatically restart kernel\n",
        "IPython.Application.instance().kernel.do_shutdown( restart = True)"
      ],
      "metadata": {
        "colab": {
          "base_uri": "https://localhost:8080/"
        },
        "id": "MQey1rOxK2Ps",
        "outputId": "0ac1a88c-68a3-4d21-cb22-e1fea1515fdb"
      },
      "execution_count": 4,
      "outputs": [
        {
          "output_type": "stream",
          "name": "stdout",
          "text": [
            "Requirement already satisfied: zenml[server] in /usr/local/lib/python3.10/dist-packages (0.56.1)\n",
            "Requirement already satisfied: alembic<1.9.0,>=1.8.1 in /usr/local/lib/python3.10/dist-packages (from zenml[server]) (1.8.1)\n",
            "Requirement already satisfied: azure-mgmt-resource>=21.0.0 in /usr/local/lib/python3.10/dist-packages (from zenml[server]) (23.0.1)\n",
            "Requirement already satisfied: bcrypt==4.0.1 in /usr/local/lib/python3.10/dist-packages (from zenml[server]) (4.0.1)\n",
            "Requirement already satisfied: click<8.1.4,>=8.0.1 in /usr/local/lib/python3.10/dist-packages (from zenml[server]) (8.1.3)\n",
            "Requirement already satisfied: click-params<0.4.0,>=0.3.0 in /usr/local/lib/python3.10/dist-packages (from zenml[server]) (0.3.0)\n",
            "Requirement already satisfied: cloudpickle<3,>=2.0.0 in /usr/local/lib/python3.10/dist-packages (from zenml[server]) (2.2.1)\n",
            "Requirement already satisfied: distro<2.0.0,>=1.6.0 in /usr/lib/python3/dist-packages (from zenml[server]) (1.7.0)\n",
            "Requirement already satisfied: docker<6.2.0,>=6.1.0 in /usr/local/lib/python3.10/dist-packages (from zenml[server]) (6.1.3)\n",
            "Requirement already satisfied: gitpython<4.0.0,>=3.1.18 in /usr/local/lib/python3.10/dist-packages (from zenml[server]) (3.1.42)\n",
            "Requirement already satisfied: httplib2<0.20,>=0.19.1 in /usr/local/lib/python3.10/dist-packages (from zenml[server]) (0.19.1)\n",
            "Requirement already satisfied: pandas>=1.1.5 in /usr/local/lib/python3.10/dist-packages (from zenml[server]) (1.5.3)\n",
            "Requirement already satisfied: passlib[bcrypt]<1.8.0,>=1.7.4 in /usr/local/lib/python3.10/dist-packages (from zenml[server]) (1.7.4)\n",
            "Requirement already satisfied: psutil>=5.0.0 in /usr/local/lib/python3.10/dist-packages (from zenml[server]) (5.9.5)\n",
            "Requirement already satisfied: pydantic<1.11,>=1.9.0 in /usr/local/lib/python3.10/dist-packages (from zenml[server]) (1.10.14)\n",
            "Requirement already satisfied: pymysql<1.1.0,>=1.0.2 in /usr/local/lib/python3.10/dist-packages (from zenml[server]) (1.0.3)\n",
            "Requirement already satisfied: pyparsing<3,>=2.4.0 in /usr/local/lib/python3.10/dist-packages (from zenml[server]) (2.4.2)\n",
            "Requirement already satisfied: python-dateutil<3.0.0,>=2.8.1 in /usr/local/lib/python3.10/dist-packages (from zenml[server]) (2.8.2)\n",
            "Requirement already satisfied: pyyaml>=6.0.1 in /usr/local/lib/python3.10/dist-packages (from zenml[server]) (6.0.1)\n",
            "Requirement already satisfied: rich[jupyter]>=12.0.0 in /usr/local/lib/python3.10/dist-packages (from zenml[server]) (13.7.1)\n",
            "Requirement already satisfied: sqlalchemy_utils==0.38.3 in /usr/local/lib/python3.10/dist-packages (from zenml[server]) (0.38.3)\n",
            "Requirement already satisfied: sqlmodel==0.0.8 in /usr/local/lib/python3.10/dist-packages (from zenml[server]) (0.0.8)\n",
            "Requirement already satisfied: Jinja2 in /usr/local/lib/python3.10/dist-packages (from zenml[server]) (3.1.3)\n",
            "Requirement already satisfied: fastapi<0.100,>=0.75 in /usr/local/lib/python3.10/dist-packages (from zenml[server]) (0.99.1)\n",
            "Requirement already satisfied: fastapi-utils<0.3.0,>=0.2.1 in /usr/local/lib/python3.10/dist-packages (from zenml[server]) (0.2.1)\n",
            "Requirement already satisfied: ipinfo>=4.4.3 in /usr/local/lib/python3.10/dist-packages (from zenml[server]) (5.0.1)\n",
            "Requirement already satisfied: orjson<3.9.0,>=3.8.3 in /usr/local/lib/python3.10/dist-packages (from zenml[server]) (3.8.14)\n",
            "Requirement already satisfied: pyjwt[crypto]==2.7.* in /usr/local/lib/python3.10/dist-packages (from zenml[server]) (2.7.0)\n",
            "Requirement already satisfied: python-multipart<0.1.0,>=0.0.5 in /usr/local/lib/python3.10/dist-packages (from zenml[server]) (0.0.9)\n",
            "Requirement already satisfied: uvicorn[standard]>=0.17.5 in /usr/local/lib/python3.10/dist-packages (from zenml[server]) (0.29.0)\n",
            "Requirement already satisfied: cryptography>=3.4.0 in /usr/local/lib/python3.10/dist-packages (from pyjwt[crypto]==2.7.*->zenml[server]) (42.0.5)\n",
            "Requirement already satisfied: SQLAlchemy>=1.3 in /usr/local/lib/python3.10/dist-packages (from sqlalchemy_utils==0.38.3->zenml[server]) (1.4.41)\n",
            "Requirement already satisfied: sqlalchemy2-stubs in /usr/local/lib/python3.10/dist-packages (from sqlmodel==0.0.8->zenml[server]) (0.0.2a38)\n",
            "Requirement already satisfied: Mako in /usr/local/lib/python3.10/dist-packages (from alembic<1.9.0,>=1.8.1->zenml[server]) (1.3.2)\n",
            "Requirement already satisfied: isodate<1.0.0,>=0.6.1 in /usr/local/lib/python3.10/dist-packages (from azure-mgmt-resource>=21.0.0->zenml[server]) (0.6.1)\n",
            "Requirement already satisfied: azure-common~=1.1 in /usr/local/lib/python3.10/dist-packages (from azure-mgmt-resource>=21.0.0->zenml[server]) (1.1.28)\n",
            "Requirement already satisfied: azure-mgmt-core<2.0.0,>=1.3.2 in /usr/local/lib/python3.10/dist-packages (from azure-mgmt-resource>=21.0.0->zenml[server]) (1.4.0)\n",
            "Requirement already satisfied: validators<0.19,>=0.18 in /usr/local/lib/python3.10/dist-packages (from click-params<0.4.0,>=0.3.0->zenml[server]) (0.18.2)\n",
            "Requirement already satisfied: packaging>=14.0 in /usr/local/lib/python3.10/dist-packages (from docker<6.2.0,>=6.1.0->zenml[server]) (24.0)\n",
            "Requirement already satisfied: requests>=2.26.0 in /usr/local/lib/python3.10/dist-packages (from docker<6.2.0,>=6.1.0->zenml[server]) (2.31.0)\n",
            "Requirement already satisfied: urllib3>=1.26.0 in /usr/local/lib/python3.10/dist-packages (from docker<6.2.0,>=6.1.0->zenml[server]) (2.0.7)\n",
            "Requirement already satisfied: websocket-client>=0.32.0 in /usr/local/lib/python3.10/dist-packages (from docker<6.2.0,>=6.1.0->zenml[server]) (1.7.0)\n",
            "Requirement already satisfied: starlette<0.28.0,>=0.27.0 in /usr/local/lib/python3.10/dist-packages (from fastapi<0.100,>=0.75->zenml[server]) (0.27.0)\n",
            "Requirement already satisfied: typing-extensions>=4.5.0 in /usr/local/lib/python3.10/dist-packages (from fastapi<0.100,>=0.75->zenml[server]) (4.10.0)\n",
            "Requirement already satisfied: gitdb<5,>=4.0.1 in /usr/local/lib/python3.10/dist-packages (from gitpython<4.0.0,>=3.1.18->zenml[server]) (4.0.11)\n",
            "Requirement already satisfied: cachetools in /usr/local/lib/python3.10/dist-packages (from ipinfo>=4.4.3->zenml[server]) (5.3.3)\n",
            "Requirement already satisfied: aiohttp<=4 in /usr/local/lib/python3.10/dist-packages (from ipinfo>=4.4.3->zenml[server]) (3.9.3)\n",
            "Requirement already satisfied: pytz>=2020.1 in /usr/local/lib/python3.10/dist-packages (from pandas>=1.1.5->zenml[server]) (2023.4)\n",
            "Requirement already satisfied: numpy>=1.21.0 in /usr/local/lib/python3.10/dist-packages (from pandas>=1.1.5->zenml[server]) (1.25.2)\n",
            "Requirement already satisfied: six>=1.5 in /usr/local/lib/python3.10/dist-packages (from python-dateutil<3.0.0,>=2.8.1->zenml[server]) (1.16.0)\n",
            "Requirement already satisfied: markdown-it-py>=2.2.0 in /usr/local/lib/python3.10/dist-packages (from rich[jupyter]>=12.0.0->zenml[server]) (3.0.0)\n",
            "Requirement already satisfied: pygments<3.0.0,>=2.13.0 in /usr/local/lib/python3.10/dist-packages (from rich[jupyter]>=12.0.0->zenml[server]) (2.16.1)\n",
            "Requirement already satisfied: ipywidgets<9,>=7.5.1 in /usr/local/lib/python3.10/dist-packages (from rich[jupyter]>=12.0.0->zenml[server]) (7.7.1)\n",
            "Requirement already satisfied: h11>=0.8 in /usr/local/lib/python3.10/dist-packages (from uvicorn[standard]>=0.17.5->zenml[server]) (0.14.0)\n",
            "Requirement already satisfied: httptools>=0.5.0 in /usr/local/lib/python3.10/dist-packages (from uvicorn[standard]>=0.17.5->zenml[server]) (0.6.1)\n",
            "Requirement already satisfied: python-dotenv>=0.13 in /usr/local/lib/python3.10/dist-packages (from uvicorn[standard]>=0.17.5->zenml[server]) (1.0.1)\n",
            "Requirement already satisfied: uvloop!=0.15.0,!=0.15.1,>=0.14.0 in /usr/local/lib/python3.10/dist-packages (from uvicorn[standard]>=0.17.5->zenml[server]) (0.19.0)\n",
            "Requirement already satisfied: watchfiles>=0.13 in /usr/local/lib/python3.10/dist-packages (from uvicorn[standard]>=0.17.5->zenml[server]) (0.21.0)\n",
            "Requirement already satisfied: websockets>=10.4 in /usr/local/lib/python3.10/dist-packages (from uvicorn[standard]>=0.17.5->zenml[server]) (12.0)\n",
            "Requirement already satisfied: MarkupSafe>=2.0 in /usr/local/lib/python3.10/dist-packages (from Jinja2->zenml[server]) (2.1.5)\n",
            "Requirement already satisfied: aiosignal>=1.1.2 in /usr/local/lib/python3.10/dist-packages (from aiohttp<=4->ipinfo>=4.4.3->zenml[server]) (1.3.1)\n",
            "Requirement already satisfied: attrs>=17.3.0 in /usr/local/lib/python3.10/dist-packages (from aiohttp<=4->ipinfo>=4.4.3->zenml[server]) (23.2.0)\n",
            "Requirement already satisfied: frozenlist>=1.1.1 in /usr/local/lib/python3.10/dist-packages (from aiohttp<=4->ipinfo>=4.4.3->zenml[server]) (1.4.1)\n",
            "Requirement already satisfied: multidict<7.0,>=4.5 in /usr/local/lib/python3.10/dist-packages (from aiohttp<=4->ipinfo>=4.4.3->zenml[server]) (6.0.5)\n",
            "Requirement already satisfied: yarl<2.0,>=1.0 in /usr/local/lib/python3.10/dist-packages (from aiohttp<=4->ipinfo>=4.4.3->zenml[server]) (1.9.4)\n",
            "Requirement already satisfied: async-timeout<5.0,>=4.0 in /usr/local/lib/python3.10/dist-packages (from aiohttp<=4->ipinfo>=4.4.3->zenml[server]) (4.0.3)\n",
            "Requirement already satisfied: azure-core<2.0.0,>=1.26.2 in /usr/local/lib/python3.10/dist-packages (from azure-mgmt-core<2.0.0,>=1.3.2->azure-mgmt-resource>=21.0.0->zenml[server]) (1.30.1)\n",
            "Requirement already satisfied: cffi>=1.12 in /usr/local/lib/python3.10/dist-packages (from cryptography>=3.4.0->pyjwt[crypto]==2.7.*->zenml[server]) (1.16.0)\n",
            "Requirement already satisfied: smmap<6,>=3.0.1 in /usr/local/lib/python3.10/dist-packages (from gitdb<5,>=4.0.1->gitpython<4.0.0,>=3.1.18->zenml[server]) (5.0.1)\n",
            "Requirement already satisfied: ipykernel>=4.5.1 in /usr/local/lib/python3.10/dist-packages (from ipywidgets<9,>=7.5.1->rich[jupyter]>=12.0.0->zenml[server]) (5.5.6)\n",
            "Requirement already satisfied: ipython-genutils~=0.2.0 in /usr/local/lib/python3.10/dist-packages (from ipywidgets<9,>=7.5.1->rich[jupyter]>=12.0.0->zenml[server]) (0.2.0)\n",
            "Requirement already satisfied: traitlets>=4.3.1 in /usr/local/lib/python3.10/dist-packages (from ipywidgets<9,>=7.5.1->rich[jupyter]>=12.0.0->zenml[server]) (5.7.1)\n",
            "Requirement already satisfied: widgetsnbextension~=3.6.0 in /usr/local/lib/python3.10/dist-packages (from ipywidgets<9,>=7.5.1->rich[jupyter]>=12.0.0->zenml[server]) (3.6.6)\n",
            "Requirement already satisfied: ipython>=4.0.0 in /usr/local/lib/python3.10/dist-packages (from ipywidgets<9,>=7.5.1->rich[jupyter]>=12.0.0->zenml[server]) (7.34.0)\n",
            "Requirement already satisfied: jupyterlab-widgets>=1.0.0 in /usr/local/lib/python3.10/dist-packages (from ipywidgets<9,>=7.5.1->rich[jupyter]>=12.0.0->zenml[server]) (3.0.10)\n",
            "Requirement already satisfied: mdurl~=0.1 in /usr/local/lib/python3.10/dist-packages (from markdown-it-py>=2.2.0->rich[jupyter]>=12.0.0->zenml[server]) (0.1.2)\n",
            "Requirement already satisfied: charset-normalizer<4,>=2 in /usr/local/lib/python3.10/dist-packages (from requests>=2.26.0->docker<6.2.0,>=6.1.0->zenml[server]) (3.3.2)\n",
            "Requirement already satisfied: idna<4,>=2.5 in /usr/local/lib/python3.10/dist-packages (from requests>=2.26.0->docker<6.2.0,>=6.1.0->zenml[server]) (3.6)\n",
            "Requirement already satisfied: certifi>=2017.4.17 in /usr/local/lib/python3.10/dist-packages (from requests>=2.26.0->docker<6.2.0,>=6.1.0->zenml[server]) (2024.2.2)\n",
            "Requirement already satisfied: greenlet!=0.4.17 in /usr/local/lib/python3.10/dist-packages (from SQLAlchemy>=1.3->sqlalchemy_utils==0.38.3->zenml[server]) (3.0.3)\n",
            "Requirement already satisfied: anyio<5,>=3.4.0 in /usr/local/lib/python3.10/dist-packages (from starlette<0.28.0,>=0.27.0->fastapi<0.100,>=0.75->zenml[server]) (3.7.1)\n",
            "Requirement already satisfied: decorator>=3.4.0 in /usr/local/lib/python3.10/dist-packages (from validators<0.19,>=0.18->click-params<0.4.0,>=0.3.0->zenml[server]) (4.4.2)\n",
            "Requirement already satisfied: sniffio>=1.1 in /usr/local/lib/python3.10/dist-packages (from anyio<5,>=3.4.0->starlette<0.28.0,>=0.27.0->fastapi<0.100,>=0.75->zenml[server]) (1.3.1)\n",
            "Requirement already satisfied: exceptiongroup in /usr/local/lib/python3.10/dist-packages (from anyio<5,>=3.4.0->starlette<0.28.0,>=0.27.0->fastapi<0.100,>=0.75->zenml[server]) (1.2.0)\n",
            "Requirement already satisfied: pycparser in /usr/local/lib/python3.10/dist-packages (from cffi>=1.12->cryptography>=3.4.0->pyjwt[crypto]==2.7.*->zenml[server]) (2.21)\n",
            "Requirement already satisfied: jupyter-client in /usr/local/lib/python3.10/dist-packages (from ipykernel>=4.5.1->ipywidgets<9,>=7.5.1->rich[jupyter]>=12.0.0->zenml[server]) (6.1.12)\n",
            "Requirement already satisfied: tornado>=4.2 in /usr/local/lib/python3.10/dist-packages (from ipykernel>=4.5.1->ipywidgets<9,>=7.5.1->rich[jupyter]>=12.0.0->zenml[server]) (6.3.3)\n",
            "Requirement already satisfied: setuptools>=18.5 in /usr/local/lib/python3.10/dist-packages (from ipython>=4.0.0->ipywidgets<9,>=7.5.1->rich[jupyter]>=12.0.0->zenml[server]) (67.7.2)\n",
            "Requirement already satisfied: jedi>=0.16 in /usr/local/lib/python3.10/dist-packages (from ipython>=4.0.0->ipywidgets<9,>=7.5.1->rich[jupyter]>=12.0.0->zenml[server]) (0.19.1)\n",
            "Requirement already satisfied: pickleshare in /usr/local/lib/python3.10/dist-packages (from ipython>=4.0.0->ipywidgets<9,>=7.5.1->rich[jupyter]>=12.0.0->zenml[server]) (0.7.5)\n",
            "Requirement already satisfied: prompt-toolkit!=3.0.0,!=3.0.1,<3.1.0,>=2.0.0 in /usr/local/lib/python3.10/dist-packages (from ipython>=4.0.0->ipywidgets<9,>=7.5.1->rich[jupyter]>=12.0.0->zenml[server]) (3.0.43)\n",
            "Requirement already satisfied: backcall in /usr/local/lib/python3.10/dist-packages (from ipython>=4.0.0->ipywidgets<9,>=7.5.1->rich[jupyter]>=12.0.0->zenml[server]) (0.2.0)\n",
            "Requirement already satisfied: matplotlib-inline in /usr/local/lib/python3.10/dist-packages (from ipython>=4.0.0->ipywidgets<9,>=7.5.1->rich[jupyter]>=12.0.0->zenml[server]) (0.1.6)\n",
            "Requirement already satisfied: pexpect>4.3 in /usr/local/lib/python3.10/dist-packages (from ipython>=4.0.0->ipywidgets<9,>=7.5.1->rich[jupyter]>=12.0.0->zenml[server]) (4.9.0)\n",
            "Requirement already satisfied: notebook>=4.4.1 in /usr/local/lib/python3.10/dist-packages (from widgetsnbextension~=3.6.0->ipywidgets<9,>=7.5.1->rich[jupyter]>=12.0.0->zenml[server]) (6.5.5)\n",
            "Requirement already satisfied: parso<0.9.0,>=0.8.3 in /usr/local/lib/python3.10/dist-packages (from jedi>=0.16->ipython>=4.0.0->ipywidgets<9,>=7.5.1->rich[jupyter]>=12.0.0->zenml[server]) (0.8.3)\n",
            "Requirement already satisfied: pyzmq<25,>=17 in /usr/local/lib/python3.10/dist-packages (from notebook>=4.4.1->widgetsnbextension~=3.6.0->ipywidgets<9,>=7.5.1->rich[jupyter]>=12.0.0->zenml[server]) (23.2.1)\n",
            "Requirement already satisfied: argon2-cffi in /usr/local/lib/python3.10/dist-packages (from notebook>=4.4.1->widgetsnbextension~=3.6.0->ipywidgets<9,>=7.5.1->rich[jupyter]>=12.0.0->zenml[server]) (23.1.0)\n",
            "Requirement already satisfied: jupyter-core>=4.6.1 in /usr/local/lib/python3.10/dist-packages (from notebook>=4.4.1->widgetsnbextension~=3.6.0->ipywidgets<9,>=7.5.1->rich[jupyter]>=12.0.0->zenml[server]) (5.7.2)\n",
            "Requirement already satisfied: nbformat in /usr/local/lib/python3.10/dist-packages (from notebook>=4.4.1->widgetsnbextension~=3.6.0->ipywidgets<9,>=7.5.1->rich[jupyter]>=12.0.0->zenml[server]) (5.10.3)\n",
            "Requirement already satisfied: nbconvert>=5 in /usr/local/lib/python3.10/dist-packages (from notebook>=4.4.1->widgetsnbextension~=3.6.0->ipywidgets<9,>=7.5.1->rich[jupyter]>=12.0.0->zenml[server]) (6.5.4)\n",
            "Requirement already satisfied: nest-asyncio>=1.5 in /usr/local/lib/python3.10/dist-packages (from notebook>=4.4.1->widgetsnbextension~=3.6.0->ipywidgets<9,>=7.5.1->rich[jupyter]>=12.0.0->zenml[server]) (1.6.0)\n",
            "Requirement already satisfied: Send2Trash>=1.8.0 in /usr/local/lib/python3.10/dist-packages (from notebook>=4.4.1->widgetsnbextension~=3.6.0->ipywidgets<9,>=7.5.1->rich[jupyter]>=12.0.0->zenml[server]) (1.8.2)\n",
            "Requirement already satisfied: terminado>=0.8.3 in /usr/local/lib/python3.10/dist-packages (from notebook>=4.4.1->widgetsnbextension~=3.6.0->ipywidgets<9,>=7.5.1->rich[jupyter]>=12.0.0->zenml[server]) (0.18.1)\n",
            "Requirement already satisfied: prometheus-client in /usr/local/lib/python3.10/dist-packages (from notebook>=4.4.1->widgetsnbextension~=3.6.0->ipywidgets<9,>=7.5.1->rich[jupyter]>=12.0.0->zenml[server]) (0.20.0)\n",
            "Requirement already satisfied: nbclassic>=0.4.7 in /usr/local/lib/python3.10/dist-packages (from notebook>=4.4.1->widgetsnbextension~=3.6.0->ipywidgets<9,>=7.5.1->rich[jupyter]>=12.0.0->zenml[server]) (1.0.0)\n",
            "Requirement already satisfied: ptyprocess>=0.5 in /usr/local/lib/python3.10/dist-packages (from pexpect>4.3->ipython>=4.0.0->ipywidgets<9,>=7.5.1->rich[jupyter]>=12.0.0->zenml[server]) (0.7.0)\n",
            "Requirement already satisfied: wcwidth in /usr/local/lib/python3.10/dist-packages (from prompt-toolkit!=3.0.0,!=3.0.1,<3.1.0,>=2.0.0->ipython>=4.0.0->ipywidgets<9,>=7.5.1->rich[jupyter]>=12.0.0->zenml[server]) (0.2.13)\n",
            "Requirement already satisfied: platformdirs>=2.5 in /usr/local/lib/python3.10/dist-packages (from jupyter-core>=4.6.1->notebook>=4.4.1->widgetsnbextension~=3.6.0->ipywidgets<9,>=7.5.1->rich[jupyter]>=12.0.0->zenml[server]) (4.2.0)\n",
            "Requirement already satisfied: jupyter-server>=1.8 in /usr/local/lib/python3.10/dist-packages (from nbclassic>=0.4.7->notebook>=4.4.1->widgetsnbextension~=3.6.0->ipywidgets<9,>=7.5.1->rich[jupyter]>=12.0.0->zenml[server]) (1.24.0)\n",
            "Requirement already satisfied: notebook-shim>=0.2.3 in /usr/local/lib/python3.10/dist-packages (from nbclassic>=0.4.7->notebook>=4.4.1->widgetsnbextension~=3.6.0->ipywidgets<9,>=7.5.1->rich[jupyter]>=12.0.0->zenml[server]) (0.2.4)\n",
            "Requirement already satisfied: lxml in /usr/local/lib/python3.10/dist-packages (from nbconvert>=5->notebook>=4.4.1->widgetsnbextension~=3.6.0->ipywidgets<9,>=7.5.1->rich[jupyter]>=12.0.0->zenml[server]) (4.9.4)\n",
            "Requirement already satisfied: beautifulsoup4 in /usr/local/lib/python3.10/dist-packages (from nbconvert>=5->notebook>=4.4.1->widgetsnbextension~=3.6.0->ipywidgets<9,>=7.5.1->rich[jupyter]>=12.0.0->zenml[server]) (4.12.3)\n",
            "Requirement already satisfied: bleach in /usr/local/lib/python3.10/dist-packages (from nbconvert>=5->notebook>=4.4.1->widgetsnbextension~=3.6.0->ipywidgets<9,>=7.5.1->rich[jupyter]>=12.0.0->zenml[server]) (6.1.0)\n",
            "Requirement already satisfied: defusedxml in /usr/local/lib/python3.10/dist-packages (from nbconvert>=5->notebook>=4.4.1->widgetsnbextension~=3.6.0->ipywidgets<9,>=7.5.1->rich[jupyter]>=12.0.0->zenml[server]) (0.7.1)\n",
            "Requirement already satisfied: entrypoints>=0.2.2 in /usr/local/lib/python3.10/dist-packages (from nbconvert>=5->notebook>=4.4.1->widgetsnbextension~=3.6.0->ipywidgets<9,>=7.5.1->rich[jupyter]>=12.0.0->zenml[server]) (0.4)\n",
            "Requirement already satisfied: jupyterlab-pygments in /usr/local/lib/python3.10/dist-packages (from nbconvert>=5->notebook>=4.4.1->widgetsnbextension~=3.6.0->ipywidgets<9,>=7.5.1->rich[jupyter]>=12.0.0->zenml[server]) (0.3.0)\n",
            "Requirement already satisfied: mistune<2,>=0.8.1 in /usr/local/lib/python3.10/dist-packages (from nbconvert>=5->notebook>=4.4.1->widgetsnbextension~=3.6.0->ipywidgets<9,>=7.5.1->rich[jupyter]>=12.0.0->zenml[server]) (0.8.4)\n",
            "Requirement already satisfied: nbclient>=0.5.0 in /usr/local/lib/python3.10/dist-packages (from nbconvert>=5->notebook>=4.4.1->widgetsnbextension~=3.6.0->ipywidgets<9,>=7.5.1->rich[jupyter]>=12.0.0->zenml[server]) (0.10.0)\n",
            "Requirement already satisfied: pandocfilters>=1.4.1 in /usr/local/lib/python3.10/dist-packages (from nbconvert>=5->notebook>=4.4.1->widgetsnbextension~=3.6.0->ipywidgets<9,>=7.5.1->rich[jupyter]>=12.0.0->zenml[server]) (1.5.1)\n",
            "Requirement already satisfied: tinycss2 in /usr/local/lib/python3.10/dist-packages (from nbconvert>=5->notebook>=4.4.1->widgetsnbextension~=3.6.0->ipywidgets<9,>=7.5.1->rich[jupyter]>=12.0.0->zenml[server]) (1.2.1)\n",
            "Requirement already satisfied: fastjsonschema in /usr/local/lib/python3.10/dist-packages (from nbformat->notebook>=4.4.1->widgetsnbextension~=3.6.0->ipywidgets<9,>=7.5.1->rich[jupyter]>=12.0.0->zenml[server]) (2.19.1)\n",
            "Requirement already satisfied: jsonschema>=2.6 in /usr/local/lib/python3.10/dist-packages (from nbformat->notebook>=4.4.1->widgetsnbextension~=3.6.0->ipywidgets<9,>=7.5.1->rich[jupyter]>=12.0.0->zenml[server]) (4.19.2)\n",
            "Requirement already satisfied: argon2-cffi-bindings in /usr/local/lib/python3.10/dist-packages (from argon2-cffi->notebook>=4.4.1->widgetsnbextension~=3.6.0->ipywidgets<9,>=7.5.1->rich[jupyter]>=12.0.0->zenml[server]) (21.2.0)\n",
            "Requirement already satisfied: jsonschema-specifications>=2023.03.6 in /usr/local/lib/python3.10/dist-packages (from jsonschema>=2.6->nbformat->notebook>=4.4.1->widgetsnbextension~=3.6.0->ipywidgets<9,>=7.5.1->rich[jupyter]>=12.0.0->zenml[server]) (2023.12.1)\n",
            "Requirement already satisfied: referencing>=0.28.4 in /usr/local/lib/python3.10/dist-packages (from jsonschema>=2.6->nbformat->notebook>=4.4.1->widgetsnbextension~=3.6.0->ipywidgets<9,>=7.5.1->rich[jupyter]>=12.0.0->zenml[server]) (0.34.0)\n",
            "Requirement already satisfied: rpds-py>=0.7.1 in /usr/local/lib/python3.10/dist-packages (from jsonschema>=2.6->nbformat->notebook>=4.4.1->widgetsnbextension~=3.6.0->ipywidgets<9,>=7.5.1->rich[jupyter]>=12.0.0->zenml[server]) (0.18.0)\n",
            "Requirement already satisfied: soupsieve>1.2 in /usr/local/lib/python3.10/dist-packages (from beautifulsoup4->nbconvert>=5->notebook>=4.4.1->widgetsnbextension~=3.6.0->ipywidgets<9,>=7.5.1->rich[jupyter]>=12.0.0->zenml[server]) (2.5)\n",
            "Requirement already satisfied: webencodings in /usr/local/lib/python3.10/dist-packages (from bleach->nbconvert>=5->notebook>=4.4.1->widgetsnbextension~=3.6.0->ipywidgets<9,>=7.5.1->rich[jupyter]>=12.0.0->zenml[server]) (0.5.1)\n",
            "\u001b[1;35mNumExpr defaulting to 2 threads.\u001b[0m\n",
            "\u001b[2K\u001b[32m⠙\u001b[0m Installing integrations...\n",
            "\u001b[1A\u001b[2KRequirement already satisfied: pyparsing==2.4.2 in /usr/local/lib/python3.10/dist-packages (2.4.2)\n"
          ]
        },
        {
          "output_type": "execute_result",
          "data": {
            "text/plain": [
              "{'status': 'ok', 'restart': True}"
            ]
          },
          "metadata": {},
          "execution_count": 4
        }
      ]
    },
    {
      "cell_type": "code",
      "source": [
        "NGROK_TOKEN = \"2e9SIxApc7XTxUFgdcC1rvwOWkj_qYg9AzEiYUCfrW1KKZQc\""
      ],
      "metadata": {
        "id": "s4cwmL0kVvQT"
      },
      "execution_count": 26,
      "outputs": []
    },
    {
      "cell_type": "code",
      "source": [
        "from zenml.environment import Environment\n",
        "\n",
        "if Environment.in_google_colab():\n",
        "\n",
        "  !pip install pyngrok\n",
        "  !ngrok authtoken {NGROK_TOKEN}"
      ],
      "metadata": {
        "colab": {
          "base_uri": "https://localhost:8080/"
        },
        "id": "aNsFqxulV2om",
        "outputId": "640ff5bc-251a-4636-a396-b3d69e629d85"
      },
      "execution_count": 28,
      "outputs": [
        {
          "output_type": "stream",
          "name": "stdout",
          "text": [
            "Requirement already satisfied: pyngrok in /usr/local/lib/python3.10/dist-packages (7.1.6)\n",
            "Requirement already satisfied: PyYAML>=5.1 in /usr/local/lib/python3.10/dist-packages (from pyngrok) (6.0.1)\n",
            "Authtoken saved to configuration file: /root/.config/ngrok/ngrok.yml\n"
          ]
        }
      ]
    },
    {
      "cell_type": "markdown",
      "source": [
        "# ZenML Setup"
      ],
      "metadata": {
        "id": "b6uXUml2WdNt"
      }
    },
    {
      "cell_type": "code",
      "source": [
        "!rm -rf .zen\n",
        "!zenml init"
      ],
      "metadata": {
        "colab": {
          "base_uri": "https://localhost:8080/"
        },
        "id": "Qi5xEcp4XMRs",
        "outputId": "e296f2df-79cd-4a76-9f9d-188abff00a23"
      },
      "execution_count": 7,
      "outputs": [
        {
          "output_type": "stream",
          "name": "stdout",
          "text": [
            "\u001b[1;35mNumExpr defaulting to 2 threads.\u001b[0m\n",
            "\u001b[?25l\u001b[32m⠋\u001b[0m Initializing ZenML repository at /content.\n",
            "\u001b[2K\u001b[1A\u001b[2K\u001b[32m⠸\u001b[0m Initializing ZenML repository at /content.\n",
            "\u001b[2K\u001b[1A\u001b[2K\u001b[32m⠼\u001b[0m Initializing ZenML repository at /content.\n",
            "\u001b[2K\u001b[1A\u001b[2K\u001b[32m⠴\u001b[0m Initializing ZenML repository at /content.\n",
            "\u001b[2K\u001b[1A\u001b[2K\u001b[32m⠦\u001b[0m Initializing ZenML repository at /content.\n",
            "\u001b[2K\u001b[1A\u001b[2K\u001b[32m⠧\u001b[0m Initializing ZenML repository at /content.\n",
            "\u001b[2K\u001b[1A\u001b[2K\u001b[32m⠏\u001b[0m Initializing ZenML repository at /content.\n",
            "\u001b[2K\u001b[1A\u001b[2K\u001b[32m⠋\u001b[0m Initializing ZenML repository at /content.\n",
            "\u001b[2K\u001b[1A\u001b[2K\u001b[32m⠙\u001b[0m Initializing ZenML repository at /content.\n",
            "\u001b[1;35mSetting the repo active workspace to 'default'.\u001b[0m\n",
            "\u001b[33mSetting the repo active stack to default.\u001b[0m\n",
            "\u001b[2K\u001b[1A\u001b[2K\u001b[2;36mZenML repository initialized at \u001b[0m\u001b[2;35m/\u001b[0m\u001b[2;95mcontent.\u001b[0m\n",
            "\u001b[2;32m⠹\u001b[0m\u001b[2;36m Initializing ZenML repository at /content.\u001b[0m\n",
            "\u001b[2K\u001b[1A\u001b[2K\u001b[32m⠹\u001b[0m Initializing ZenML repository at /content.\n",
            "\n",
            "\u001b[1A\u001b[2K\u001b[1A\u001b[2K\u001b[2;36mThe local active stack was initialized to \u001b[0m\u001b[2;32m'default'\u001b[0m\u001b[2;36m. This local configuration will only take effect \u001b[0m\n",
            "\u001b[2;36mwhen you're running ZenML from the initialized repository root, or from a subdirectory. For more \u001b[0m\n",
            "\u001b[2;36minformation on repositories and configurations, please visit \u001b[0m\n",
            "\u001b[2;4;94mhttps://docs.zenml.io/user-guide/starter-guide/understand-stacks.\u001b[0m\n"
          ]
        }
      ]
    },
    {
      "cell_type": "markdown",
      "source": [
        "## Experimentation ML"
      ],
      "metadata": {
        "id": "-tapDu9SYWQD"
      }
    },
    {
      "cell_type": "code",
      "source": [
        "import numpy as np\n",
        "from sklearn.base import ClassifierMixin\n",
        "from sklearn.datasets import load_digits\n",
        "from sklearn.svm import SVC\n",
        "from sklearn.model_selection import train_test_split\n",
        "\n",
        "def train_test() -> None:\n",
        "  \"\"\"Train and test a scikit-learn SVC Classifier on Digits\"\"\"\n",
        "  digits = load_digits()\n",
        "  data = digits.images.reshape( len( digits.images ), -1)\n",
        "  X_train, X_test, y_train, y_test = train_test_split( data, digits.target, test_size=0.2, shuffle=False )\n",
        "\n",
        "  model = SVC( gamma=0.001 ) # gamma hyperparameter: smaller help to prevent overffiting\n",
        "  model.fit( X_train, y_train)\n",
        "  test_acc = model.score( X_test, y_test )\n",
        "  print(f\"Test accuracy: {test_acc}\"  )\n",
        "\n",
        "train_test()"
      ],
      "metadata": {
        "colab": {
          "base_uri": "https://localhost:8080/"
        },
        "id": "dOOjQouHXy_F",
        "outputId": "8f974af0-19b0-411b-a064-1fa8c612dbd1"
      },
      "execution_count": 13,
      "outputs": [
        {
          "output_type": "stream",
          "name": "stdout",
          "text": [
            "Test accuracy: 0.9583333333333334\n"
          ]
        }
      ]
    },
    {
      "cell_type": "markdown",
      "source": [
        "## Turning experiments into ML pipelines with ZenML\n",
        "\n",
        "*Pipeline: Load -> Training -> Evaluate*"
      ],
      "metadata": {
        "id": "GTeumrmtbeIT"
      }
    },
    {
      "cell_type": "code",
      "source": [
        "from zenml import step\n",
        "from typing_extensions import Annotated\n",
        "import pandas as pd\n",
        "from typing import Tuple\n",
        "import numpy as np\n",
        "\n",
        "@step\n",
        "def importer() -> Tuple[\n",
        "    Annotated[np.ndarray, \"X_train\"],\n",
        "    Annotated[np.ndarray, \"X_test\"],\n",
        "    Annotated[np.ndarray, \"y_train\"],\n",
        "    Annotated[np.ndarray, \"y_test\"],\n",
        "]:\n",
        "  \"\"\"Load the digits dataset as numpy arrays\"\"\"\n",
        "  digits = load_digits()\n",
        "  data = digits.images.reshape( len( digits.images ), -1)\n",
        "  X_train, X_test, y_train, y_test = train_test_split( data, digits.target, test_size=0.2, shuffle=False )\n",
        "  return  X_train, X_test, y_train, y_test\n",
        "\n",
        "@step\n",
        "def svc_trainer(\n",
        "    X_train: np.ndarray,\n",
        "    y_train: np.ndarray\n",
        "    ) -> ClassifierMixin:\n",
        "  \"\"\"Train a sklearn Classifier\"\"\"\n",
        "  model = SVC( gamma=0.001 ) # gamma hyperparameter: smaller help to prevent overffiting\n",
        "  model.fit( X_train, y_train)\n",
        "  return  model\n",
        "\n",
        "@step\n",
        "def evaluator(\n",
        "    X_test: np.ndarray,\n",
        "    y_test: np.ndarray,\n",
        "    model: ClassifierMixin,) -> float:\n",
        "    \"\"\"Calculate accuracy\"\"\"\n",
        "    test_acc = model.score( X_test, y_test )\n",
        "    print(f\"Test accuracy: {test_acc}\"  )\n",
        "\n",
        "    return test_acc\n",
        "\n"
      ],
      "metadata": {
        "id": "P8B4NMxpbpVb"
      },
      "execution_count": 10,
      "outputs": []
    },
    {
      "cell_type": "code",
      "source": [
        "from zenml import pipeline\n",
        "\n",
        "@pipeline\n",
        "def digits_pipeline():\n",
        "  \"\"\"Link all the steps together in a pipeline\"\"\"\n",
        "  X_train, X_test, y_train, y_test = importer()\n",
        "  model = svc_trainer(X_train=X_train, y_train = y_train)\n",
        "  evaluator(X_test, y_test, model )\n"
      ],
      "metadata": {
        "id": "Tnm1zAThd5zY"
      },
      "execution_count": 16,
      "outputs": []
    },
    {
      "cell_type": "code",
      "source": [
        "digists_svc_pipeline = digits_pipeline()\n"
      ],
      "metadata": {
        "colab": {
          "base_uri": "https://localhost:8080/"
        },
        "id": "EP5zCUkH-0jV",
        "outputId": "ed726260-943f-4d8a-f5c2-7c250d5f3beb"
      },
      "execution_count": 17,
      "outputs": [
        {
          "output_type": "stream",
          "name": "stdout",
          "text": [
            "\u001b[1;35mInitiating a new run for the pipeline: \u001b[0m\u001b[1;36mdigits_pipeline\u001b[1;35m.\u001b[0m\n",
            "\u001b[1;35mRegistered new version: \u001b[0m\u001b[1;36m(version 3)\u001b[1;35m.\u001b[0m\n",
            "\u001b[1;35mExecuting a new run.\u001b[0m\n",
            "\u001b[1;35mUsing user: \u001b[0m\u001b[1;36mdefault\u001b[1;35m\u001b[0m\n",
            "\u001b[1;35mUsing stack: \u001b[0m\u001b[1;36mdefault\u001b[1;35m\u001b[0m\n",
            "\u001b[1;35m  orchestrator: \u001b[0m\u001b[1;36mdefault\u001b[1;35m\u001b[0m\n",
            "\u001b[1;35m  artifact_store: \u001b[0m\u001b[1;36mdefault\u001b[1;35m\u001b[0m\n",
            "\u001b[1;35mYou can visualize your pipeline runs in the \u001b[0m\u001b[1;36mZenML Dashboard\u001b[1;35m. In order to try it locally, please run \u001b[0m\u001b[1;36mzenml up\u001b[1;35m.\u001b[0m\n",
            "\u001b[1;35mUsing cached version of \u001b[0m\u001b[1;36mimporter\u001b[1;35m.\u001b[0m\n",
            "\u001b[1;35mStep \u001b[0m\u001b[1;36mimporter\u001b[1;35m has started.\u001b[0m\n",
            "\u001b[1;35mStep \u001b[0m\u001b[1;36msvc_trainer\u001b[1;35m has started.\u001b[0m\n",
            "\u001b[1;35mStep \u001b[0m\u001b[1;36msvc_trainer\u001b[1;35m has finished in \u001b[0m\u001b[1;36m0.726s\u001b[1;35m.\u001b[0m\n",
            "\u001b[1;35mStep \u001b[0m\u001b[1;36mevaluator\u001b[1;35m has started.\u001b[0m\n",
            "Test accuracy: 0.9583333333333334\n",
            "\u001b[1;35mStep \u001b[0m\u001b[1;36mevaluator\u001b[1;35m has finished in \u001b[0m\u001b[1;36m0.668s\u001b[1;35m.\u001b[0m\n",
            "\u001b[1;35mPipeline run has finished in \u001b[0m\u001b[1;36m1.997s\u001b[1;35m.\u001b[0m\n"
          ]
        }
      ]
    },
    {
      "cell_type": "code",
      "source": [
        "digists_svc_pipeline"
      ],
      "metadata": {
        "colab": {
          "base_uri": "https://localhost:8080/"
        },
        "id": "1EhomILKBNVv",
        "outputId": "3695a1f4-85f6-4378-dae0-ac5d3932c0f9"
      },
      "execution_count": 19,
      "outputs": [
        {
          "output_type": "execute_result",
          "data": {
            "text/plain": [
              "PipelineRunResponseBody(created=datetime.datetime(2024, 3, 25, 0, 31, 6, 33337), updated=datetime.datetime(2024, 3, 25, 0, 31, 6, 33341), user=UserResponse(body=UserResponseBody(created=datetime.datetime(2024, 3, 25, 0, 18, 17, 500474), updated=datetime.datetime(2024, 3, 25, 0, 18, 17, 500480), active=True, activation_token=None, full_name='', email_opted_in=None, is_service_account=False, is_admin=True), metadata=None, resources=None, id=UUID('4028a627-aa25-40e5-b65e-d8dfd8cb8cb8'), permission_denied=False, name='default'), status=<ExecutionStatus.INITIALIZING: 'initializing'>, stack=StackResponse(body=StackResponseBody(created=datetime.datetime(2024, 3, 25, 0, 18, 16, 846547), updated=datetime.datetime(2024, 3, 25, 0, 18, 16, 846552), user=None), metadata=None, resources=None, id=UUID('0eb59b8b-5634-45b3-b551-a4bbc4e565e5'), permission_denied=False, name='default'), pipeline=PipelineResponse(body=PipelineResponseBody(created=datetime.datetime(2024, 3, 25, 0, 31, 5, 542054), updated=datetime.datetime(2024, 3, 25, 0, 31, 5, 542059), user=UserResponse(body=UserResponseBody(created=datetime.datetime(2024, 3, 25, 0, 18, 17, 500474), updated=datetime.datetime(2024, 3, 25, 0, 18, 17, 500480), active=True, activation_token=None, full_name='', email_opted_in=None, is_service_account=False, is_admin=True), metadata=None, resources=None, id=UUID('4028a627-aa25-40e5-b65e-d8dfd8cb8cb8'), permission_denied=False, name='default'), status=[<ExecutionStatus.INITIALIZING: 'initializing'>], version='3'), metadata=None, resources=None, id=UUID('18f8dd6a-95d9-4963-855c-e73efdeb19d6'), permission_denied=False, name='digits_pipeline'), build=None, schedule=None, code_reference=None, deployment_id=UUID('3be67f9a-e5bd-4c14-9624-4cb5f089579b'), trigger_execution=None)"
            ]
          },
          "metadata": {},
          "execution_count": 19
        }
      ]
    },
    {
      "cell_type": "code",
      "source": [
        "from zenml.environment import Environment\n",
        "\n",
        "def start_zenml_dashboard( port=8237):\n",
        "  if Environment.in_google_colab():\n",
        "    from pyngrok import ngrok\n",
        "\n",
        "    public_url = ngrok.connect(port)\n",
        "    print(f\"\\x1b[31mIm Colab, use this URL instead: {public_url}!\\x1b[0m\")\n",
        "    !zenml up --blocking --port {port}\n",
        "\n",
        "  else:\n",
        "    !zenml up --port {--port}"
      ],
      "metadata": {
        "id": "xxCAYnf4CIS5"
      },
      "execution_count": 24,
      "outputs": []
    },
    {
      "cell_type": "code",
      "source": [
        "start_zenml_dashboard()"
      ],
      "metadata": {
        "colab": {
          "base_uri": "https://localhost:8080/"
        },
        "id": "JWuIl0RFDbcs",
        "outputId": "c2f44b93-2802-47c1-d037-55e9d939225b"
      },
      "execution_count": 29,
      "outputs": [
        {
          "output_type": "stream",
          "name": "stderr",
          "text": [
            "INFO:pyngrok.ngrok:Opening tunnel named: http-8237-b3a65c98-681a-41fe-9c0f-74d195839b57\n"
          ]
        },
        {
          "output_type": "stream",
          "name": "stdout",
          "text": [
            "\u001b[1;35mOpening tunnel named: http-8237-b3a65c98-681a-41fe-9c0f-74d195839b57\u001b[0m\n"
          ]
        },
        {
          "output_type": "stream",
          "name": "stderr",
          "text": [
            "INFO:pyngrok.process.ngrok:t=2024-03-25T00:45:06+0000 lvl=info msg=\"no configuration paths supplied\"\n"
          ]
        },
        {
          "output_type": "stream",
          "name": "stdout",
          "text": [
            "\u001b[1;35mt=2024-03-25T00:45:06+0000 lvl=info msg=\"no configuration paths supplied\"\u001b[0m\n"
          ]
        },
        {
          "output_type": "stream",
          "name": "stderr",
          "text": [
            "INFO:pyngrok.process.ngrok:t=2024-03-25T00:45:06+0000 lvl=info msg=\"using configuration at default config path\" path=/root/.config/ngrok/ngrok.yml\n"
          ]
        },
        {
          "output_type": "stream",
          "name": "stdout",
          "text": [
            "\u001b[1;35mt=2024-03-25T00:45:06+0000 lvl=info msg=\"using configuration at default config path\" path=/root/.config/ngrok/ngrok.yml\u001b[0m\n"
          ]
        },
        {
          "output_type": "stream",
          "name": "stderr",
          "text": [
            "INFO:pyngrok.process.ngrok:t=2024-03-25T00:45:06+0000 lvl=info msg=\"open config file\" path=/root/.config/ngrok/ngrok.yml err=nil\n"
          ]
        },
        {
          "output_type": "stream",
          "name": "stdout",
          "text": [
            "\u001b[1;35mt=2024-03-25T00:45:06+0000 lvl=info msg=\"open config file\" path=/root/.config/ngrok/ngrok.yml err=nil\u001b[0m\n"
          ]
        },
        {
          "output_type": "stream",
          "name": "stderr",
          "text": [
            "INFO:pyngrok.process.ngrok:t=2024-03-25T00:45:06+0000 lvl=info msg=\"starting web service\" obj=web addr=127.0.0.1:4040 allow_hosts=[]\n"
          ]
        },
        {
          "output_type": "stream",
          "name": "stdout",
          "text": [
            "\u001b[1;35mt=2024-03-25T00:45:06+0000 lvl=info msg=\"starting web service\" obj=web addr=127.0.0.1:4040 allow_hosts=[]\u001b[0m\n"
          ]
        },
        {
          "output_type": "stream",
          "name": "stderr",
          "text": [
            "INFO:pyngrok.process.ngrok:t=2024-03-25T00:45:06+0000 lvl=info msg=\"client session established\" obj=tunnels.session\n"
          ]
        },
        {
          "output_type": "stream",
          "name": "stdout",
          "text": [
            "\u001b[1;35mt=2024-03-25T00:45:06+0000 lvl=info msg=\"client session established\" obj=tunnels.session\u001b[0m\n"
          ]
        },
        {
          "output_type": "stream",
          "name": "stderr",
          "text": [
            "INFO:pyngrok.process.ngrok:t=2024-03-25T00:45:06+0000 lvl=info msg=\"tunnel session started\" obj=tunnels.session\n"
          ]
        },
        {
          "output_type": "stream",
          "name": "stdout",
          "text": [
            "\u001b[1;35mt=2024-03-25T00:45:06+0000 lvl=info msg=\"tunnel session started\" obj=tunnels.session\u001b[0m\n"
          ]
        },
        {
          "output_type": "stream",
          "name": "stderr",
          "text": [
            "INFO:pyngrok.process.ngrok:t=2024-03-25T00:45:06+0000 lvl=info msg=start pg=/api/tunnels id=6841cc61b27eb8c4\n"
          ]
        },
        {
          "output_type": "stream",
          "name": "stdout",
          "text": [
            "\u001b[1;35mt=2024-03-25T00:45:06+0000 lvl=info msg=start pg=/api/tunnels id=6841cc61b27eb8c4\u001b[0m\n"
          ]
        },
        {
          "output_type": "stream",
          "name": "stderr",
          "text": [
            "INFO:pyngrok.process.ngrok:t=2024-03-25T00:45:06+0000 lvl=info msg=end pg=/api/tunnels id=6841cc61b27eb8c4 status=200 dur=367.021µs\n"
          ]
        },
        {
          "output_type": "stream",
          "name": "stdout",
          "text": [
            "\u001b[1;35mt=2024-03-25T00:45:06+0000 lvl=info msg=end pg=/api/tunnels id=6841cc61b27eb8c4 status=200 dur=367.021µs\u001b[0m\n"
          ]
        },
        {
          "output_type": "stream",
          "name": "stderr",
          "text": [
            "INFO:pyngrok.process.ngrok:t=2024-03-25T00:45:06+0000 lvl=info msg=start pg=/api/tunnels id=fd9e29ba165af99a\n"
          ]
        },
        {
          "output_type": "stream",
          "name": "stdout",
          "text": [
            "\u001b[1;35mt=2024-03-25T00:45:06+0000 lvl=info msg=start pg=/api/tunnels id=fd9e29ba165af99a\u001b[0m\n"
          ]
        },
        {
          "output_type": "stream",
          "name": "stderr",
          "text": [
            "INFO:pyngrok.process.ngrok:t=2024-03-25T00:45:06+0000 lvl=info msg=end pg=/api/tunnels id=fd9e29ba165af99a status=200 dur=157.264µs\n"
          ]
        },
        {
          "output_type": "stream",
          "name": "stdout",
          "text": [
            "\u001b[1;35mt=2024-03-25T00:45:06+0000 lvl=info msg=end pg=/api/tunnels id=fd9e29ba165af99a status=200 dur=157.264µs\u001b[0m\n"
          ]
        },
        {
          "output_type": "stream",
          "name": "stderr",
          "text": [
            "INFO:pyngrok.process.ngrok:t=2024-03-25T00:45:06+0000 lvl=info msg=start pg=/api/tunnels id=4721af877cfa1e5c\n"
          ]
        },
        {
          "output_type": "stream",
          "name": "stdout",
          "text": [
            "\u001b[1;35mt=2024-03-25T00:45:06+0000 lvl=info msg=start pg=/api/tunnels id=4721af877cfa1e5c\u001b[0m\n"
          ]
        },
        {
          "output_type": "stream",
          "name": "stderr",
          "text": [
            "INFO:pyngrok.process.ngrok:t=2024-03-25T00:45:06+0000 lvl=info msg=\"started tunnel\" obj=tunnels name=http-8237-b3a65c98-681a-41fe-9c0f-74d195839b57 addr=http://localhost:8237 url=https://1217-35-237-58-56.ngrok-free.app\n"
          ]
        },
        {
          "output_type": "stream",
          "name": "stdout",
          "text": [
            "\u001b[31mIm Colab, use this URL instead: NgrokTunnel: \"https://1217-35-237-58-56.ngrok-free.app\" -> \"http://localhost:8237\"!\u001b[0m\n",
            "\u001b[1;35mt=2024-03-25T00:45:06+0000 lvl=info msg=\"started tunnel\" obj=tunnels name=http-8237-b3a65c98-681a-41fe-9c0f-74d195839b57 addr=http://localhost:8237 url=https://1217-35-237-58-56.ngrok-free.app\u001b[0m\n"
          ]
        },
        {
          "output_type": "stream",
          "name": "stderr",
          "text": [
            "INFO:pyngrok.process.ngrok:t=2024-03-25T00:45:06+0000 lvl=info msg=end pg=/api/tunnels id=4721af877cfa1e5c status=201 dur=45.180833ms\n"
          ]
        },
        {
          "output_type": "stream",
          "name": "stdout",
          "text": [
            "\u001b[1;35mt=2024-03-25T00:45:06+0000 lvl=info msg=end pg=/api/tunnels id=4721af877cfa1e5c status=201 dur=45.180833ms\u001b[0m\n",
            "\u001b[1;35mNumExpr defaulting to 2 threads.\u001b[0m\n",
            "\u001b[2;36mThe local ZenML dashboard is about to deploy in a blocking process. You can connect to it using the \u001b[0m\n",
            "\u001b[2;32m'default'\u001b[0m\u001b[2;36m username and an empty password.\u001b[0m\n",
            "\u001b[1;35mDeploying a local ZenML server with name 'local'.\u001b[0m\n",
            "\u001b[1;35mInitializing the ZenML global configuration version to 0.56.1\u001b[0m\n",
            "\u001b[1;35mStarting ZenML Server as blocking process... press CTRL+C once to stop it.\u001b[0m\n",
            "\u001b[32mINFO\u001b[0m:     Started server process [\u001b[36m7943\u001b[0m]\n",
            "\u001b[32mINFO\u001b[0m:     Waiting for application startup.\n",
            "\u001b[1;35mNot writing the global configuration to disk in a ZenML server environment.\u001b[0m\n",
            "\u001b[1;35mNot writing the global configuration to disk in a ZenML server environment.\u001b[0m\n",
            "\u001b[32mINFO\u001b[0m:     Application startup complete.\n",
            "\u001b[32mINFO\u001b[0m:     Uvicorn running on \u001b[1mhttp://127.0.0.1:8237\u001b[0m (Press CTRL+C to quit)\n"
          ]
        },
        {
          "output_type": "stream",
          "name": "stderr",
          "text": [
            "INFO:pyngrok.process.ngrok:t=2024-03-25T00:49:16+0000 lvl=info msg=\"join connections\" obj=join id=481086fd2739 l=127.0.0.1:8237 r=[2800:300:66d7:bd0::1]:56110\n"
          ]
        },
        {
          "output_type": "stream",
          "name": "stdout",
          "text": [
            "\u001b[1;35mt=2024-03-25T00:49:16+0000 lvl=info msg=\"join connections\" obj=join id=481086fd2739 l=127.0.0.1:8237 r=[2800:300:66d7:bd0::1]:56110\u001b[0m\n",
            "\u001b[32mINFO\u001b[0m:     2800:300:66d7:bd0::1:0 - \"\u001b[1mGET / HTTP/1.1\u001b[0m\" \u001b[32m200 OK\u001b[0m\n"
          ]
        },
        {
          "output_type": "stream",
          "name": "stderr",
          "text": [
            "INFO:pyngrok.process.ngrok:t=2024-03-25T00:49:17+0000 lvl=info msg=\"join connections\" obj=join id=4f42fbb3d79c l=127.0.0.1:8237 r=[2800:300:66d7:bd0::1]:56110\n"
          ]
        },
        {
          "output_type": "stream",
          "name": "stdout",
          "text": [
            "\u001b[32mINFO\u001b[0m:     2800:300:66d7:bd0::1:0 - \"\u001b[1mGET /css/2.5b37d44a.chunk.css HTTP/1.1\u001b[0m\" \u001b[32m200 OK\u001b[0m\n",
            "\u001b[1;35mt=2024-03-25T00:49:17+0000 lvl=info msg=\"join connections\" obj=join id=4f42fbb3d79c l=127.0.0.1:8237 r=[2800:300:66d7:bd0::1]:56110\u001b[0m\n"
          ]
        },
        {
          "output_type": "stream",
          "name": "stderr",
          "text": [
            "INFO:pyngrok.process.ngrok:t=2024-03-25T00:49:17+0000 lvl=info msg=\"join connections\" obj=join id=95ac15e1a262 l=127.0.0.1:8237 r=[2800:300:66d7:bd0::1]:56110\n"
          ]
        },
        {
          "output_type": "stream",
          "name": "stdout",
          "text": [
            "\u001b[1;35mt=2024-03-25T00:49:17+0000 lvl=info msg=\"join connections\" obj=join id=95ac15e1a262 l=127.0.0.1:8237 r=[2800:300:66d7:bd0::1]:56110\u001b[0m\n"
          ]
        },
        {
          "output_type": "stream",
          "name": "stderr",
          "text": [
            "INFO:pyngrok.process.ngrok:t=2024-03-25T00:49:17+0000 lvl=info msg=\"join connections\" obj=join id=e380688a1207 l=127.0.0.1:8237 r=[2800:300:66d7:bd0::1]:56110\n"
          ]
        },
        {
          "output_type": "stream",
          "name": "stdout",
          "text": [
            "\u001b[1;35mt=2024-03-25T00:49:17+0000 lvl=info msg=\"join connections\" obj=join id=e380688a1207 l=127.0.0.1:8237 r=[2800:300:66d7:bd0::1]:56110\u001b[0m\n",
            "\u001b[32mINFO\u001b[0m:     2800:300:66d7:bd0::1:0 - \"\u001b[1mGET /css/main.e79dff04.chunk.css HTTP/1.1\u001b[0m\" \u001b[32m200 OK\u001b[0m\n",
            "\u001b[32mINFO\u001b[0m:     2800:300:66d7:bd0::1:0 - \"\u001b[1mGET /js/main.af5f2e28.chunk.js HTTP/1.1\u001b[0m\" \u001b[32m200 OK\u001b[0m\n",
            "\u001b[32mINFO\u001b[0m:     2800:300:66d7:bd0::1:0 - \"\u001b[1mGET /js/2.200ad335.chunk.js HTTP/1.1\u001b[0m\" \u001b[32m200 OK\u001b[0m\n",
            "\u001b[32mINFO\u001b[0m:     2800:300:66d7:bd0::1:0 - \"\u001b[1mGET /favicon.ico HTTP/1.1\u001b[0m\" \u001b[32m200 OK\u001b[0m\n"
          ]
        },
        {
          "output_type": "stream",
          "name": "stderr",
          "text": [
            "INFO:pyngrok.process.ngrok:t=2024-03-25T00:49:19+0000 lvl=info msg=\"join connections\" obj=join id=abd2b131caf7 l=127.0.0.1:8237 r=[2800:300:66d7:bd0::1]:56110\n"
          ]
        },
        {
          "output_type": "stream",
          "name": "stdout",
          "text": [
            "\u001b[32mINFO\u001b[0m:     2800:300:66d7:bd0::1:0 - \"\u001b[1mGET /media/logo_small.4204397d.svg HTTP/1.1\u001b[0m\" \u001b[32m200 OK\u001b[0m\n",
            "\u001b[32mINFO\u001b[0m:     2800:300:66d7:bd0::1:0 - \"\u001b[1mGET /media/Rubik-Medium.c87313aa.ttf HTTP/1.1\u001b[0m\" \u001b[32m200 OK\u001b[0m\n",
            "\u001b[32mINFO\u001b[0m:     2800:300:66d7:bd0::1:0 - \"\u001b[1mGET /api/v1/workspaces HTTP/1.1\u001b[0m\" \u001b[31m401 Unauthorized\u001b[0m\n",
            "\u001b[1;35mt=2024-03-25T00:49:19+0000 lvl=info msg=\"join connections\" obj=join id=abd2b131caf7 l=127.0.0.1:8237 r=[2800:300:66d7:bd0::1]:56110\u001b[0m\n"
          ]
        },
        {
          "output_type": "stream",
          "name": "stderr",
          "text": [
            "INFO:pyngrok.process.ngrok:t=2024-03-25T00:49:19+0000 lvl=info msg=\"join connections\" obj=join id=92779594872a l=127.0.0.1:8237 r=[2800:300:66d7:bd0::1]:56110\n"
          ]
        },
        {
          "output_type": "stream",
          "name": "stdout",
          "text": [
            "\u001b[1;35mt=2024-03-25T00:49:19+0000 lvl=info msg=\"join connections\" obj=join id=92779594872a l=127.0.0.1:8237 r=[2800:300:66d7:bd0::1]:56110\u001b[0m\n"
          ]
        },
        {
          "output_type": "stream",
          "name": "stderr",
          "text": [
            "INFO:pyngrok.process.ngrok:t=2024-03-25T00:49:19+0000 lvl=info msg=\"join connections\" obj=join id=469b8d412c86 l=127.0.0.1:8237 r=[2800:300:66d7:bd0::1]:56110\n"
          ]
        },
        {
          "output_type": "stream",
          "name": "stdout",
          "text": [
            "\u001b[1;35mt=2024-03-25T00:49:19+0000 lvl=info msg=\"join connections\" obj=join id=469b8d412c86 l=127.0.0.1:8237 r=[2800:300:66d7:bd0::1]:56110\u001b[0m\n",
            "\u001b[32mINFO\u001b[0m:     2800:300:66d7:bd0::1:0 - \"\u001b[1mGET /media/Rubik-Regular.b3d0902b.ttf HTTP/1.1\u001b[0m\" \u001b[32m200 OK\u001b[0m\n",
            "\u001b[32mINFO\u001b[0m:     2800:300:66d7:bd0::1:0 - \"\u001b[1mGET /api/v1/info HTTP/1.1\u001b[0m\" \u001b[32m200 OK\u001b[0m\n",
            "\u001b[32mINFO\u001b[0m:     2800:300:66d7:bd0::1:0 - \"\u001b[1mGET /api/v1/logout HTTP/1.1\u001b[0m\" \u001b[32m200 OK\u001b[0m\n",
            "\u001b[32mINFO\u001b[0m:     2800:300:66d7:bd0::1:0 - \"\u001b[1mGET /api/v1/info HTTP/1.1\u001b[0m\" \u001b[32m200 OK\u001b[0m\n",
            "\u001b[32mINFO\u001b[0m:     2800:300:66d7:bd0::1:0 - \"\u001b[1mPOST /api/v1/login HTTP/1.1\u001b[0m\" \u001b[32m200 OK\u001b[0m\n"
          ]
        },
        {
          "output_type": "stream",
          "name": "stderr",
          "text": [
            "INFO:pyngrok.process.ngrok:t=2024-03-25T00:49:26+0000 lvl=info msg=\"join connections\" obj=join id=bd89edea15fd l=127.0.0.1:8237 r=[2800:300:66d7:bd0::1]:56110\n"
          ]
        },
        {
          "output_type": "stream",
          "name": "stdout",
          "text": [
            "\u001b[1;35mGot token from cookie\u001b[0m\n",
            "\u001b[32mINFO\u001b[0m:     2800:300:66d7:bd0::1:0 - \"\u001b[1mGET /api/v1/workspaces HTTP/1.1\u001b[0m\" \u001b[32m200 OK\u001b[0m\n",
            "\u001b[1;35mt=2024-03-25T00:49:26+0000 lvl=info msg=\"join connections\" obj=join id=bd89edea15fd l=127.0.0.1:8237 r=[2800:300:66d7:bd0::1]:56110\u001b[0m\n"
          ]
        },
        {
          "output_type": "stream",
          "name": "stderr",
          "text": [
            "INFO:pyngrok.process.ngrok:t=2024-03-25T00:49:26+0000 lvl=info msg=\"join connections\" obj=join id=7bf1b75dab43 l=127.0.0.1:8237 r=[2800:300:66d7:bd0::1]:56110\n"
          ]
        },
        {
          "output_type": "stream",
          "name": "stdout",
          "text": [
            "\u001b[1;35mt=2024-03-25T00:49:26+0000 lvl=info msg=\"join connections\" obj=join id=7bf1b75dab43 l=127.0.0.1:8237 r=[2800:300:66d7:bd0::1]:56110\u001b[0m\n"
          ]
        },
        {
          "output_type": "stream",
          "name": "stderr",
          "text": [
            "INFO:pyngrok.process.ngrok:t=2024-03-25T00:49:26+0000 lvl=info msg=\"join connections\" obj=join id=963aa5dd0c2e l=127.0.0.1:8237 r=[2800:300:66d7:bd0::1]:56110\n"
          ]
        },
        {
          "output_type": "stream",
          "name": "stdout",
          "text": [
            "\u001b[1;35mGot token from cookie\u001b[0m\n",
            "\u001b[32mINFO\u001b[0m:     2800:300:66d7:bd0::1:0 - \"\u001b[1mGET /api/v1/component-types HTTP/1.1\u001b[0m\" \u001b[32m200 OK\u001b[0m\n",
            "\u001b[1;35mGot token from cookie\u001b[0m\n",
            "\u001b[32mINFO\u001b[0m:     2800:300:66d7:bd0::1:0 - \"\u001b[1mGET /api/v1/current-user HTTP/1.1\u001b[0m\" \u001b[32m200 OK\u001b[0m\n",
            "\u001b[32mINFO\u001b[0m:     2800:300:66d7:bd0::1:0 - \"\u001b[1mGET /api/v1/info HTTP/1.1\u001b[0m\" \u001b[32m200 OK\u001b[0m\n",
            "\u001b[1;35mt=2024-03-25T00:49:26+0000 lvl=info msg=\"join connections\" obj=join id=963aa5dd0c2e l=127.0.0.1:8237 r=[2800:300:66d7:bd0::1]:56110\u001b[0m\n"
          ]
        },
        {
          "output_type": "stream",
          "name": "stderr",
          "text": [
            "INFO:pyngrok.process.ngrok:t=2024-03-25T00:49:26+0000 lvl=info msg=\"join connections\" obj=join id=502e9bdef574 l=127.0.0.1:8237 r=[2800:300:66d7:bd0::1]:56110\n"
          ]
        },
        {
          "output_type": "stream",
          "name": "stdout",
          "text": [
            "\u001b[1;35mt=2024-03-25T00:49:26+0000 lvl=info msg=\"join connections\" obj=join id=502e9bdef574 l=127.0.0.1:8237 r=[2800:300:66d7:bd0::1]:56110\u001b[0m\n",
            "\u001b[1;35mGot token from cookie\u001b[0m\n",
            "\u001b[1;35mGot token from cookie\u001b[0m\n",
            "\u001b[32mINFO\u001b[0m:     2800:300:66d7:bd0::1:0 - \"\u001b[1mGET /api/v1/users?hydrate=true&size=1000&page=1 HTTP/1.1\u001b[0m\" \u001b[32m200 OK\u001b[0m\n",
            "\u001b[32mINFO\u001b[0m:     2800:300:66d7:bd0::1:0 - \"\u001b[1mGET /api/v1/workspaces HTTP/1.1\u001b[0m\" \u001b[32m200 OK\u001b[0m\n"
          ]
        },
        {
          "output_type": "stream",
          "name": "stderr",
          "text": [
            "INFO:pyngrok.process.ngrok:t=2024-03-25T00:49:26+0000 lvl=info msg=\"join connections\" obj=join id=9d523a16dab2 l=127.0.0.1:8237 r=[2800:300:66d7:bd0::1]:56110\n"
          ]
        },
        {
          "output_type": "stream",
          "name": "stdout",
          "text": [
            "\u001b[1;35mt=2024-03-25T00:49:26+0000 lvl=info msg=\"join connections\" obj=join id=9d523a16dab2 l=127.0.0.1:8237 r=[2800:300:66d7:bd0::1]:56110\u001b[0m\n",
            "\u001b[1;35mGot token from cookie\u001b[0m\n",
            "\u001b[1;35mGot token from cookie\u001b[0m\n",
            "\u001b[32mINFO\u001b[0m:     2800:300:66d7:bd0::1:0 - \"\u001b[1mGET /api/v1/users?hydrate=true&size=1000&page=1 HTTP/1.1\u001b[0m\" \u001b[32m200 OK\u001b[0m\n",
            "\u001b[32mINFO\u001b[0m:     2800:300:66d7:bd0::1:0 - \"\u001b[1mGET /api/v1/workspaces/default/statistics HTTP/1.1\u001b[0m\" \u001b[32m200 OK\u001b[0m\n"
          ]
        },
        {
          "output_type": "stream",
          "name": "stderr",
          "text": [
            "INFO:pyngrok.process.ngrok:t=2024-03-25T00:49:35+0000 lvl=info msg=\"join connections\" obj=join id=704827af4e39 l=127.0.0.1:8237 r=[2800:300:66d7:bd0::1]:56110\n"
          ]
        },
        {
          "output_type": "stream",
          "name": "stdout",
          "text": [
            "\u001b[1;35mt=2024-03-25T00:49:35+0000 lvl=info msg=\"join connections\" obj=join id=704827af4e39 l=127.0.0.1:8237 r=[2800:300:66d7:bd0::1]:56110\u001b[0m\n"
          ]
        },
        {
          "output_type": "stream",
          "name": "stderr",
          "text": [
            "INFO:pyngrok.process.ngrok:t=2024-03-25T00:49:35+0000 lvl=info msg=\"join connections\" obj=join id=c4b7272b4e49 l=127.0.0.1:8237 r=[2800:300:66d7:bd0::1]:56110\n"
          ]
        },
        {
          "output_type": "stream",
          "name": "stdout",
          "text": [
            "\u001b[1;35mt=2024-03-25T00:49:35+0000 lvl=info msg=\"join connections\" obj=join id=c4b7272b4e49 l=127.0.0.1:8237 r=[2800:300:66d7:bd0::1]:56110\u001b[0m\n"
          ]
        },
        {
          "output_type": "stream",
          "name": "stderr",
          "text": [
            "INFO:pyngrok.process.ngrok:t=2024-03-25T00:49:36+0000 lvl=info msg=\"join connections\" obj=join id=75983eca99f4 l=127.0.0.1:8237 r=[2800:300:66d7:bd0::1]:56110\n"
          ]
        },
        {
          "output_type": "stream",
          "name": "stdout",
          "text": [
            "\u001b[1;35mt=2024-03-25T00:49:36+0000 lvl=info msg=\"join connections\" obj=join id=75983eca99f4 l=127.0.0.1:8237 r=[2800:300:66d7:bd0::1]:56110\u001b[0m\n",
            "\u001b[32mINFO\u001b[0m:     2800:300:66d7:bd0::1:0 - \"\u001b[1mGET /api/v1/info HTTP/1.1\u001b[0m\" \u001b[32m200 OK\u001b[0m\n",
            "\u001b[1;35mGot token from cookie\u001b[0m\n",
            "\u001b[1;35mGot token from cookie\u001b[0m\n",
            "\u001b[32mINFO\u001b[0m:     2800:300:66d7:bd0::1:0 - \"\u001b[1mGET /api/v1/workspaces HTTP/1.1\u001b[0m\" \u001b[32m200 OK\u001b[0m\n",
            "\u001b[32mINFO\u001b[0m:     2800:300:66d7:bd0::1:0 - \"\u001b[1mGET /api/v1/workspaces/default/stacks?sort_by=desc:created&logical_operator=and&page=1&size=10 HTTP/1.1\u001b[0m\" \u001b[32m200 OK\u001b[0m\n",
            "\u001b[32mINFO\u001b[0m:     2800:300:66d7:bd0::1:0 - \"\u001b[1mGET /api/v1/info HTTP/1.1\u001b[0m\" \u001b[32m200 OK\u001b[0m\n"
          ]
        },
        {
          "output_type": "stream",
          "name": "stderr",
          "text": [
            "INFO:pyngrok.process.ngrok:t=2024-03-25T00:49:41+0000 lvl=info msg=\"join connections\" obj=join id=00e56e90569f l=127.0.0.1:8237 r=[2800:300:66d7:bd0::1]:56110\n"
          ]
        },
        {
          "output_type": "stream",
          "name": "stdout",
          "text": [
            "\u001b[1;35mt=2024-03-25T00:49:41+0000 lvl=info msg=\"join connections\" obj=join id=00e56e90569f l=127.0.0.1:8237 r=[2800:300:66d7:bd0::1]:56110\u001b[0m\n",
            "\u001b[1;35mGot token from cookie\u001b[0m\n",
            "\u001b[32mINFO\u001b[0m:     2800:300:66d7:bd0::1:0 - \"\u001b[1mGET /api/v1/workspaces/default/stacks?sort_by=desc:created&logical_operator=and&page=1&size=10 HTTP/1.1\u001b[0m\" \u001b[32m200 OK\u001b[0m\n"
          ]
        },
        {
          "output_type": "stream",
          "name": "stderr",
          "text": [
            "INFO:pyngrok.process.ngrok:t=2024-03-25T00:49:47+0000 lvl=info msg=\"join connections\" obj=join id=a7d0ecf50847 l=127.0.0.1:8237 r=[2800:300:66d7:bd0::1]:56110\n"
          ]
        },
        {
          "output_type": "stream",
          "name": "stdout",
          "text": [
            "\u001b[1;35mt=2024-03-25T00:49:47+0000 lvl=info msg=\"join connections\" obj=join id=a7d0ecf50847 l=127.0.0.1:8237 r=[2800:300:66d7:bd0::1]:56110\u001b[0m\n",
            "\u001b[1;35mGot token from cookie\u001b[0m\n",
            "\u001b[32mINFO\u001b[0m:     2800:300:66d7:bd0::1:0 - \"\u001b[1mGET /api/v1/workspaces/default/stacks?sort_by=desc:created&logical_operator=and&page=1&size=10 HTTP/1.1\u001b[0m\" \u001b[32m200 OK\u001b[0m\n"
          ]
        },
        {
          "output_type": "stream",
          "name": "stderr",
          "text": [
            "INFO:pyngrok.process.ngrok:t=2024-03-25T00:49:50+0000 lvl=info msg=\"join connections\" obj=join id=d44a3e368886 l=127.0.0.1:8237 r=[2800:300:66d7:bd0::1]:56110\n"
          ]
        },
        {
          "output_type": "stream",
          "name": "stdout",
          "text": [
            "\u001b[1;35mGot token from cookie\u001b[0m\n",
            "\u001b[32mINFO\u001b[0m:     2800:300:66d7:bd0::1:0 - \"\u001b[1mGET /api/v1/workspaces HTTP/1.1\u001b[0m\" \u001b[32m200 OK\u001b[0m\n",
            "\u001b[1;35mt=2024-03-25T00:49:50+0000 lvl=info msg=\"join connections\" obj=join id=d44a3e368886 l=127.0.0.1:8237 r=[2800:300:66d7:bd0::1]:56110\u001b[0m\n"
          ]
        },
        {
          "output_type": "stream",
          "name": "stderr",
          "text": [
            "INFO:pyngrok.process.ngrok:t=2024-03-25T00:49:50+0000 lvl=info msg=\"join connections\" obj=join id=327fa55bfbcb l=127.0.0.1:8237 r=[2800:300:66d7:bd0::1]:56110\n"
          ]
        },
        {
          "output_type": "stream",
          "name": "stdout",
          "text": [
            "\u001b[1;35mt=2024-03-25T00:49:50+0000 lvl=info msg=\"join connections\" obj=join id=327fa55bfbcb l=127.0.0.1:8237 r=[2800:300:66d7:bd0::1]:56110\u001b[0m\n"
          ]
        },
        {
          "output_type": "stream",
          "name": "stderr",
          "text": [
            "INFO:pyngrok.process.ngrok:t=2024-03-25T00:49:50+0000 lvl=info msg=\"join connections\" obj=join id=bed4537033e8 l=127.0.0.1:8237 r=[2800:300:66d7:bd0::1]:56110\n"
          ]
        },
        {
          "output_type": "stream",
          "name": "stdout",
          "text": [
            "\u001b[1;35mt=2024-03-25T00:49:50+0000 lvl=info msg=\"join connections\" obj=join id=bed4537033e8 l=127.0.0.1:8237 r=[2800:300:66d7:bd0::1]:56110\u001b[0m\n",
            "\u001b[1;35mGot token from cookie\u001b[0m\n",
            "\u001b[32mINFO\u001b[0m:     2800:300:66d7:bd0::1:0 - \"\u001b[1mGET /api/v1/workspaces/default/statistics HTTP/1.1\u001b[0m\" \u001b[32m200 OK\u001b[0m\n",
            "\u001b[1;35mGot token from cookie\u001b[0m\n",
            "\u001b[32mINFO\u001b[0m:     2800:300:66d7:bd0::1:0 - \"\u001b[1mGET /api/v1/info HTTP/1.1\u001b[0m\" \u001b[32m200 OK\u001b[0m\n",
            "\u001b[32mINFO\u001b[0m:     2800:300:66d7:bd0::1:0 - \"\u001b[1mGET /api/v1/users?hydrate=true&size=1000&page=1 HTTP/1.1\u001b[0m\" \u001b[32m200 OK\u001b[0m\n"
          ]
        },
        {
          "output_type": "stream",
          "name": "stderr",
          "text": [
            "INFO:pyngrok.process.ngrok:t=2024-03-25T00:49:53+0000 lvl=info msg=\"join connections\" obj=join id=6cb42038f223 l=127.0.0.1:8237 r=[2800:300:66d7:bd0::1]:56110\n"
          ]
        },
        {
          "output_type": "stream",
          "name": "stdout",
          "text": [
            "\u001b[1;35mGot token from cookie\u001b[0m\n",
            "\u001b[1;35mGot token from cookie\u001b[0m\n",
            "\u001b[32mINFO\u001b[0m:     2800:300:66d7:bd0::1:0 - \"\u001b[1mGET /api/v1/workspaces HTTP/1.1\u001b[0m\" \u001b[32m200 OK\u001b[0m\n",
            "\u001b[32mINFO\u001b[0m:     2800:300:66d7:bd0::1:0 - \"\u001b[1mGET /api/v1/component-types HTTP/1.1\u001b[0m\" \u001b[32m200 OK\u001b[0m\n",
            "\u001b[1;35mt=2024-03-25T00:49:53+0000 lvl=info msg=\"join connections\" obj=join id=6cb42038f223 l=127.0.0.1:8237 r=[2800:300:66d7:bd0::1]:56110\u001b[0m\n"
          ]
        },
        {
          "output_type": "stream",
          "name": "stderr",
          "text": [
            "INFO:pyngrok.process.ngrok:t=2024-03-25T00:49:53+0000 lvl=info msg=\"join connections\" obj=join id=d26a6f175a7b l=127.0.0.1:8237 r=[2800:300:66d7:bd0::1]:56110\n"
          ]
        },
        {
          "output_type": "stream",
          "name": "stdout",
          "text": [
            "\u001b[1;35mt=2024-03-25T00:49:53+0000 lvl=info msg=\"join connections\" obj=join id=d26a6f175a7b l=127.0.0.1:8237 r=[2800:300:66d7:bd0::1]:56110\u001b[0m\n"
          ]
        },
        {
          "output_type": "stream",
          "name": "stderr",
          "text": [
            "INFO:pyngrok.process.ngrok:t=2024-03-25T00:49:53+0000 lvl=info msg=\"join connections\" obj=join id=efcb2edd628f l=127.0.0.1:8237 r=[2800:300:66d7:bd0::1]:56110\n"
          ]
        },
        {
          "output_type": "stream",
          "name": "stdout",
          "text": [
            "\u001b[1;35mt=2024-03-25T00:49:53+0000 lvl=info msg=\"join connections\" obj=join id=efcb2edd628f l=127.0.0.1:8237 r=[2800:300:66d7:bd0::1]:56110\u001b[0m\n",
            "\u001b[1;35mGot token from cookie\u001b[0m\n",
            "\u001b[1;35mGot token from cookie\u001b[0m\n",
            "\u001b[32mINFO\u001b[0m:     2800:300:66d7:bd0::1:0 - \"\u001b[1mGET /api/v1/info HTTP/1.1\u001b[0m\" \u001b[32m200 OK\u001b[0m\n",
            "\u001b[32mINFO\u001b[0m:     2800:300:66d7:bd0::1:0 - \"\u001b[1mGET /api/v1/workspaces/default/components?scope_type=orchestrator&sort_by=desc:created&logical_operator=and&page=1&size=10 HTTP/1.1\u001b[0m\" \u001b[32m200 OK\u001b[0m\n",
            "\u001b[32mINFO\u001b[0m:     2800:300:66d7:bd0::1:0 - \"\u001b[1mGET /api/v1/flavors?size=1000 HTTP/1.1\u001b[0m\" \u001b[32m200 OK\u001b[0m\n"
          ]
        },
        {
          "output_type": "stream",
          "name": "stderr",
          "text": [
            "INFO:pyngrok.process.ngrok:t=2024-03-25T00:49:55+0000 lvl=info msg=\"join connections\" obj=join id=dd11b37e6c16 l=127.0.0.1:8237 r=[2800:300:66d7:bd0::1]:56110\n"
          ]
        },
        {
          "output_type": "stream",
          "name": "stdout",
          "text": [
            "\u001b[1;35mGot token from cookie\u001b[0m\n",
            "\u001b[32mINFO\u001b[0m:     2800:300:66d7:bd0::1:0 - \"\u001b[1mGET /api/v1/info HTTP/1.1\u001b[0m\" \u001b[32m200 OK\u001b[0m\n",
            "\u001b[32mINFO\u001b[0m:     2800:300:66d7:bd0::1:0 - \"\u001b[1mGET /api/v1/workspaces HTTP/1.1\u001b[0m\" \u001b[32m200 OK\u001b[0m\n",
            "\u001b[1;35mt=2024-03-25T00:49:55+0000 lvl=info msg=\"join connections\" obj=join id=dd11b37e6c16 l=127.0.0.1:8237 r=[2800:300:66d7:bd0::1]:56110\u001b[0m\n"
          ]
        },
        {
          "output_type": "stream",
          "name": "stderr",
          "text": [
            "INFO:pyngrok.process.ngrok:t=2024-03-25T00:49:55+0000 lvl=info msg=\"join connections\" obj=join id=729768b267dd l=127.0.0.1:8237 r=[2800:300:66d7:bd0::1]:56110\n"
          ]
        },
        {
          "output_type": "stream",
          "name": "stdout",
          "text": [
            "\u001b[1;35mGot token from cookie\u001b[0m\n",
            "\u001b[1;35mt=2024-03-25T00:49:55+0000 lvl=info msg=\"join connections\" obj=join id=729768b267dd l=127.0.0.1:8237 r=[2800:300:66d7:bd0::1]:56110\u001b[0m\n",
            "\u001b[32mINFO\u001b[0m:     2800:300:66d7:bd0::1:0 - \"\u001b[1mGET /api/v1/components/5179eeec-6250-48d2-b966-512f3ffbcdf8 HTTP/1.1\u001b[0m\" \u001b[32m200 OK\u001b[0m\n",
            "\u001b[1;35mGot token from cookie\u001b[0m\n",
            "\u001b[32mINFO\u001b[0m:     2800:300:66d7:bd0::1:0 - \"\u001b[1mGET /api/v1/component-types HTTP/1.1\u001b[0m\" \u001b[32m200 OK\u001b[0m\n",
            "\u001b[1;35mGot token from cookie\u001b[0m\n",
            "\u001b[32mINFO\u001b[0m:     2800:300:66d7:bd0::1:0 - \"\u001b[1mGET /api/v1/flavors?hydrate=true&type=orchestrator&name=local HTTP/1.1\u001b[0m\" \u001b[32m200 OK\u001b[0m\n",
            "\u001b[1;35mGot token from cookie\u001b[0m\n",
            "\u001b[32mINFO\u001b[0m:     2800:300:66d7:bd0::1:0 - \"\u001b[1mGET /api/v1/flavors/2c34f8a0-b72f-4ea7-b8f0-77edb2b6feca HTTP/1.1\u001b[0m\" \u001b[32m200 OK\u001b[0m\n"
          ]
        },
        {
          "output_type": "stream",
          "name": "stderr",
          "text": [
            "INFO:pyngrok.process.ngrok:t=2024-03-25T00:50:03+0000 lvl=info msg=\"join connections\" obj=join id=3a4285e03df8 l=127.0.0.1:8237 r=[2800:300:66d7:bd0::1]:56110\n"
          ]
        },
        {
          "output_type": "stream",
          "name": "stdout",
          "text": [
            "\u001b[1;35mt=2024-03-25T00:50:03+0000 lvl=info msg=\"join connections\" obj=join id=3a4285e03df8 l=127.0.0.1:8237 r=[2800:300:66d7:bd0::1]:56110\u001b[0m\n"
          ]
        },
        {
          "output_type": "stream",
          "name": "stderr",
          "text": [
            "INFO:pyngrok.process.ngrok:t=2024-03-25T00:50:03+0000 lvl=info msg=\"join connections\" obj=join id=d70f8918dfab l=127.0.0.1:8237 r=[2800:300:66d7:bd0::1]:56110\n"
          ]
        },
        {
          "output_type": "stream",
          "name": "stdout",
          "text": [
            "\u001b[1;35mt=2024-03-25T00:50:03+0000 lvl=info msg=\"join connections\" obj=join id=d70f8918dfab l=127.0.0.1:8237 r=[2800:300:66d7:bd0::1]:56110\u001b[0m\n"
          ]
        },
        {
          "output_type": "stream",
          "name": "stderr",
          "text": [
            "INFO:pyngrok.process.ngrok:t=2024-03-25T00:50:03+0000 lvl=info msg=\"join connections\" obj=join id=da8560550adb l=127.0.0.1:8237 r=[2800:300:66d7:bd0::1]:56110\n"
          ]
        },
        {
          "output_type": "stream",
          "name": "stdout",
          "text": [
            "\u001b[1;35mt=2024-03-25T00:50:03+0000 lvl=info msg=\"join connections\" obj=join id=da8560550adb l=127.0.0.1:8237 r=[2800:300:66d7:bd0::1]:56110\u001b[0m\n"
          ]
        },
        {
          "output_type": "stream",
          "name": "stderr",
          "text": [
            "INFO:pyngrok.process.ngrok:t=2024-03-25T00:50:03+0000 lvl=info msg=\"join connections\" obj=join id=e3c381582537 l=127.0.0.1:8237 r=[2800:300:66d7:bd0::1]:56110\n"
          ]
        },
        {
          "output_type": "stream",
          "name": "stdout",
          "text": [
            "\u001b[1;35mt=2024-03-25T00:50:03+0000 lvl=info msg=\"join connections\" obj=join id=e3c381582537 l=127.0.0.1:8237 r=[2800:300:66d7:bd0::1]:56110\u001b[0m\n"
          ]
        },
        {
          "output_type": "stream",
          "name": "stderr",
          "text": [
            "INFO:pyngrok.process.ngrok:t=2024-03-25T00:50:03+0000 lvl=info msg=\"join connections\" obj=join id=0ea9f11c97ef l=127.0.0.1:8237 r=[2800:300:66d7:bd0::1]:56110\n"
          ]
        },
        {
          "output_type": "stream",
          "name": "stdout",
          "text": [
            "\u001b[1;35mt=2024-03-25T00:50:03+0000 lvl=info msg=\"join connections\" obj=join id=0ea9f11c97ef l=127.0.0.1:8237 r=[2800:300:66d7:bd0::1]:56110\u001b[0m\n",
            "\u001b[1;35mGot token from cookie\u001b[0m\n",
            "\u001b[1;35mGot token from cookie\u001b[0m\n",
            "\u001b[32mINFO\u001b[0m:     2800:300:66d7:bd0::1:0 - \"\u001b[1mGET /api/v1/component-types HTTP/1.1\u001b[0m\" \u001b[32m200 OK\u001b[0m\n",
            "\u001b[32mINFO\u001b[0m:     2800:300:66d7:bd0::1:0 - \"\u001b[1mGET /api/v1/workspaces HTTP/1.1\u001b[0m\" \u001b[32m200 OK\u001b[0m\n",
            "\u001b[1;35mGot token from cookie\u001b[0m\n",
            "\u001b[1;35mGot token from cookie\u001b[0m\n",
            "\u001b[32mINFO\u001b[0m:     2800:300:66d7:bd0::1:0 - \"\u001b[1mGET /api/v1/info HTTP/1.1\u001b[0m\" \u001b[32m200 OK\u001b[0m\n",
            "\u001b[32mINFO\u001b[0m:     2800:300:66d7:bd0::1:0 - \"\u001b[1mGET /api/v1/flavors?size=1000 HTTP/1.1\u001b[0m\" \u001b[32m200 OK\u001b[0m\n",
            "\u001b[32mINFO\u001b[0m:     2800:300:66d7:bd0::1:0 - \"\u001b[1mGET /api/v1/workspaces/default/components?scope_type=orchestrator&sort_by=desc:created&logical_operator=and&page=1&size=10 HTTP/1.1\u001b[0m\" \u001b[32m200 OK\u001b[0m\n"
          ]
        },
        {
          "output_type": "stream",
          "name": "stderr",
          "text": [
            "INFO:pyngrok.process.ngrok:t=2024-03-25T00:50:09+0000 lvl=info msg=\"join connections\" obj=join id=b9afa24a3a16 l=127.0.0.1:8237 r=[2800:300:66d7:bd0::1]:56110\n"
          ]
        },
        {
          "output_type": "stream",
          "name": "stdout",
          "text": [
            "\u001b[1;35mt=2024-03-25T00:50:09+0000 lvl=info msg=\"join connections\" obj=join id=b9afa24a3a16 l=127.0.0.1:8237 r=[2800:300:66d7:bd0::1]:56110\u001b[0m\n",
            "\u001b[1;35mGot token from cookie\u001b[0m\n",
            "\u001b[32mINFO\u001b[0m:     2800:300:66d7:bd0::1:0 - \"\u001b[1mGET /api/v1/workspaces/default/components?scope_type=orchestrator&sort_by=desc:created&logical_operator=and&page=1&size=10 HTTP/1.1\u001b[0m\" \u001b[32m200 OK\u001b[0m\n"
          ]
        },
        {
          "output_type": "stream",
          "name": "stderr",
          "text": [
            "INFO:pyngrok.process.ngrok:t=2024-03-25T00:50:14+0000 lvl=info msg=\"join connections\" obj=join id=1cf0eb8e2ca8 l=127.0.0.1:8237 r=[2800:300:66d7:bd0::1]:56110\n"
          ]
        },
        {
          "output_type": "stream",
          "name": "stdout",
          "text": [
            "\u001b[1;35mt=2024-03-25T00:50:14+0000 lvl=info msg=\"join connections\" obj=join id=1cf0eb8e2ca8 l=127.0.0.1:8237 r=[2800:300:66d7:bd0::1]:56110\u001b[0m\n",
            "\u001b[1;35mGot token from cookie\u001b[0m\n",
            "\u001b[32mINFO\u001b[0m:     2800:300:66d7:bd0::1:0 - \"\u001b[1mGET /api/v1/workspaces/default/components?scope_type=orchestrator&sort_by=desc:created&logical_operator=and&page=1&size=10 HTTP/1.1\u001b[0m\" \u001b[32m200 OK\u001b[0m\n"
          ]
        },
        {
          "output_type": "stream",
          "name": "stderr",
          "text": [
            "INFO:pyngrok.process.ngrok:t=2024-03-25T00:50:20+0000 lvl=info msg=\"join connections\" obj=join id=71a426759659 l=127.0.0.1:8237 r=[2800:300:66d7:bd0::1]:56110\n"
          ]
        },
        {
          "output_type": "stream",
          "name": "stdout",
          "text": [
            "\u001b[1;35mt=2024-03-25T00:50:20+0000 lvl=info msg=\"join connections\" obj=join id=71a426759659 l=127.0.0.1:8237 r=[2800:300:66d7:bd0::1]:56110\u001b[0m\n",
            "\u001b[1;35mGot token from cookie\u001b[0m\n",
            "\u001b[32mINFO\u001b[0m:     2800:300:66d7:bd0::1:0 - \"\u001b[1mGET /api/v1/workspaces/default/components?scope_type=orchestrator&sort_by=desc:created&logical_operator=and&page=1&size=10 HTTP/1.1\u001b[0m\" \u001b[32m200 OK\u001b[0m\n"
          ]
        },
        {
          "output_type": "stream",
          "name": "stderr",
          "text": [
            "INFO:pyngrok.process.ngrok:t=2024-03-25T00:50:25+0000 lvl=info msg=\"join connections\" obj=join id=7083fb01578b l=127.0.0.1:8237 r=[2800:300:66d7:bd0::1]:56110\n"
          ]
        },
        {
          "output_type": "stream",
          "name": "stdout",
          "text": [
            "\u001b[1;35mt=2024-03-25T00:50:25+0000 lvl=info msg=\"join connections\" obj=join id=7083fb01578b l=127.0.0.1:8237 r=[2800:300:66d7:bd0::1]:56110\u001b[0m\n",
            "\u001b[1;35mGot token from cookie\u001b[0m\n",
            "\u001b[32mINFO\u001b[0m:     2800:300:66d7:bd0::1:0 - \"\u001b[1mGET /api/v1/workspaces/default/components?scope_type=orchestrator&sort_by=desc:created&logical_operator=and&page=1&size=10 HTTP/1.1\u001b[0m\" \u001b[32m200 OK\u001b[0m\n"
          ]
        },
        {
          "output_type": "stream",
          "name": "stderr",
          "text": [
            "INFO:pyngrok.process.ngrok:t=2024-03-25T00:50:41+0000 lvl=info msg=\"join connections\" obj=join id=0d7dfc4380a8 l=127.0.0.1:8237 r=[2800:300:66d7:bd0::1]:56110\n"
          ]
        },
        {
          "output_type": "stream",
          "name": "stdout",
          "text": [
            "\u001b[1;35mt=2024-03-25T00:50:41+0000 lvl=info msg=\"join connections\" obj=join id=0d7dfc4380a8 l=127.0.0.1:8237 r=[2800:300:66d7:bd0::1]:56110\u001b[0m\n",
            "\u001b[32mINFO\u001b[0m:     2800:300:66d7:bd0::1:0 - \"\u001b[1mGET / HTTP/1.1\u001b[0m\" \u001b[32m200 OK\u001b[0m\n"
          ]
        },
        {
          "output_type": "stream",
          "name": "stderr",
          "text": [
            "INFO:pyngrok.process.ngrok:t=2024-03-25T00:50:42+0000 lvl=info msg=\"join connections\" obj=join id=0aad3f135390 l=127.0.0.1:8237 r=[2800:300:66d7:bd0::1]:56110\n"
          ]
        },
        {
          "output_type": "stream",
          "name": "stdout",
          "text": [
            "\u001b[1;35mGot token from cookie\u001b[0m\n",
            "\u001b[32mINFO\u001b[0m:     2800:300:66d7:bd0::1:0 - \"\u001b[1mGET /api/v1/workspaces HTTP/1.1\u001b[0m\" \u001b[32m200 OK\u001b[0m\n",
            "\u001b[1;35mt=2024-03-25T00:50:42+0000 lvl=info msg=\"join connections\" obj=join id=0aad3f135390 l=127.0.0.1:8237 r=[2800:300:66d7:bd0::1]:56110\u001b[0m\n"
          ]
        },
        {
          "output_type": "stream",
          "name": "stderr",
          "text": [
            "INFO:pyngrok.process.ngrok:t=2024-03-25T00:50:42+0000 lvl=info msg=\"join connections\" obj=join id=415e96ce413c l=127.0.0.1:8237 r=[2800:300:66d7:bd0::1]:56110\n"
          ]
        },
        {
          "output_type": "stream",
          "name": "stdout",
          "text": [
            "\u001b[1;35mt=2024-03-25T00:50:42+0000 lvl=info msg=\"join connections\" obj=join id=415e96ce413c l=127.0.0.1:8237 r=[2800:300:66d7:bd0::1]:56110\u001b[0m\n"
          ]
        },
        {
          "output_type": "stream",
          "name": "stderr",
          "text": [
            "INFO:pyngrok.process.ngrok:t=2024-03-25T00:50:42+0000 lvl=info msg=\"join connections\" obj=join id=4b9fdfda6d41 l=127.0.0.1:8237 r=[2800:300:66d7:bd0::1]:56110\n"
          ]
        },
        {
          "output_type": "stream",
          "name": "stdout",
          "text": [
            "\u001b[1;35mt=2024-03-25T00:50:42+0000 lvl=info msg=\"join connections\" obj=join id=4b9fdfda6d41 l=127.0.0.1:8237 r=[2800:300:66d7:bd0::1]:56110\u001b[0m\n",
            "\u001b[1;35mGot token from cookie\u001b[0m\n",
            "\u001b[1;35mGot token from cookie\u001b[0m\n",
            "\u001b[32mINFO\u001b[0m:     2800:300:66d7:bd0::1:0 - \"\u001b[1mGET /api/v1/info HTTP/1.1\u001b[0m\" \u001b[32m200 OK\u001b[0m\n",
            "\u001b[32mINFO\u001b[0m:     2800:300:66d7:bd0::1:0 - \"\u001b[1mGET /api/v1/users?hydrate=true&size=1000&page=1 HTTP/1.1\u001b[0m\" \u001b[32m200 OK\u001b[0m\n",
            "\u001b[32mINFO\u001b[0m:     2800:300:66d7:bd0::1:0 - \"\u001b[1mGET /api/v1/workspaces/default/statistics HTTP/1.1\u001b[0m\" \u001b[32m200 OK\u001b[0m\n"
          ]
        },
        {
          "output_type": "stream",
          "name": "stderr",
          "text": [
            "INFO:pyngrok.process.ngrok:t=2024-03-25T00:50:44+0000 lvl=info msg=\"join connections\" obj=join id=63f537821be2 l=127.0.0.1:8237 r=[2800:300:66d7:bd0::1]:56110\n"
          ]
        },
        {
          "output_type": "stream",
          "name": "stdout",
          "text": [
            "\u001b[32mINFO\u001b[0m:     2800:300:66d7:bd0::1:0 - \"\u001b[1mGET /api/v1/info HTTP/1.1\u001b[0m\" \u001b[32m200 OK\u001b[0m\n",
            "\u001b[1;35mGot token from cookie\u001b[0m\n",
            "\u001b[32mINFO\u001b[0m:     2800:300:66d7:bd0::1:0 - \"\u001b[1mGET /api/v1/workspaces HTTP/1.1\u001b[0m\" \u001b[32m200 OK\u001b[0m\n",
            "\u001b[1;35mt=2024-03-25T00:50:44+0000 lvl=info msg=\"join connections\" obj=join id=63f537821be2 l=127.0.0.1:8237 r=[2800:300:66d7:bd0::1]:56110\u001b[0m\n",
            "\u001b[1;35mGot token from cookie\u001b[0m\n",
            "\u001b[32mINFO\u001b[0m:     2800:300:66d7:bd0::1:0 - \"\u001b[1mGET /api/v1/workspaces/default/pipelines?sort_by=desc:created&logical_operator=and&page=1&size=10 HTTP/1.1\u001b[0m\" \u001b[32m200 OK\u001b[0m\n",
            "\u001b[32mINFO\u001b[0m:     2800:300:66d7:bd0::1:0 - \"\u001b[1mGET /api/v1/info HTTP/1.1\u001b[0m\" \u001b[32m200 OK\u001b[0m\n"
          ]
        },
        {
          "output_type": "stream",
          "name": "stderr",
          "text": [
            "INFO:pyngrok.process.ngrok:t=2024-03-25T00:50:50+0000 lvl=info msg=\"join connections\" obj=join id=c4c193fef10b l=127.0.0.1:8237 r=[2800:300:66d7:bd0::1]:56110\n"
          ]
        },
        {
          "output_type": "stream",
          "name": "stdout",
          "text": [
            "\u001b[1;35mt=2024-03-25T00:50:50+0000 lvl=info msg=\"join connections\" obj=join id=c4c193fef10b l=127.0.0.1:8237 r=[2800:300:66d7:bd0::1]:56110\u001b[0m\n",
            "\u001b[1;35mGot token from cookie\u001b[0m\n",
            "\u001b[32mINFO\u001b[0m:     2800:300:66d7:bd0::1:0 - \"\u001b[1mGET /api/v1/workspaces/default/pipelines?sort_by=desc:created&logical_operator=and&page=1&size=10 HTTP/1.1\u001b[0m\" \u001b[32m200 OK\u001b[0m\n"
          ]
        },
        {
          "output_type": "stream",
          "name": "stderr",
          "text": [
            "INFO:pyngrok.process.ngrok:t=2024-03-25T00:50:52+0000 lvl=info msg=\"join connections\" obj=join id=190a7336643f l=127.0.0.1:8237 r=[2800:300:66d7:bd0::1]:56110\n"
          ]
        },
        {
          "output_type": "stream",
          "name": "stdout",
          "text": [
            "\u001b[1;35mGot token from cookie\u001b[0m\n",
            "\u001b[32mINFO\u001b[0m:     2800:300:66d7:bd0::1:0 - \"\u001b[1mGET /api/v1/workspaces HTTP/1.1\u001b[0m\" \u001b[32m200 OK\u001b[0m\n",
            "\u001b[1;35mt=2024-03-25T00:50:52+0000 lvl=info msg=\"join connections\" obj=join id=190a7336643f l=127.0.0.1:8237 r=[2800:300:66d7:bd0::1]:56110\u001b[0m\n"
          ]
        },
        {
          "output_type": "stream",
          "name": "stderr",
          "text": [
            "INFO:pyngrok.process.ngrok:t=2024-03-25T00:50:52+0000 lvl=info msg=\"join connections\" obj=join id=caa9d8c96586 l=127.0.0.1:8237 r=[2800:300:66d7:bd0::1]:56110\n"
          ]
        },
        {
          "output_type": "stream",
          "name": "stdout",
          "text": [
            "\u001b[1;35mt=2024-03-25T00:50:52+0000 lvl=info msg=\"join connections\" obj=join id=caa9d8c96586 l=127.0.0.1:8237 r=[2800:300:66d7:bd0::1]:56110\u001b[0m\n"
          ]
        },
        {
          "output_type": "stream",
          "name": "stderr",
          "text": [
            "INFO:pyngrok.process.ngrok:t=2024-03-25T00:50:52+0000 lvl=info msg=\"join connections\" obj=join id=097591ada442 l=127.0.0.1:8237 r=[2800:300:66d7:bd0::1]:56110\n"
          ]
        },
        {
          "output_type": "stream",
          "name": "stdout",
          "text": [
            "\u001b[1;35mt=2024-03-25T00:50:52+0000 lvl=info msg=\"join connections\" obj=join id=097591ada442 l=127.0.0.1:8237 r=[2800:300:66d7:bd0::1]:56110\u001b[0m\n",
            "\u001b[1;35mGot token from cookie\u001b[0m\n",
            "\u001b[1;35mGot token from cookie\u001b[0m\n",
            "\u001b[32mINFO\u001b[0m:     2800:300:66d7:bd0::1:0 - \"\u001b[1mGET /api/v1/info HTTP/1.1\u001b[0m\" \u001b[32m200 OK\u001b[0m\n",
            "\u001b[32mINFO\u001b[0m:     2800:300:66d7:bd0::1:0 - \"\u001b[1mGET /api/v1/pipelines/18f8dd6a-95d9-4963-855c-e73efdeb19d6 HTTP/1.1\u001b[0m\" \u001b[32m200 OK\u001b[0m\n",
            "\u001b[32mINFO\u001b[0m:     2800:300:66d7:bd0::1:0 - \"\u001b[1mGET /api/v1/runs?pipeline_id=18f8dd6a-95d9-4963-855c-e73efdeb19d6&sort_by=desc:created&logical_operator=and&page=1&size=10 HTTP/1.1\u001b[0m\" \u001b[32m200 OK\u001b[0m\n"
          ]
        },
        {
          "output_type": "stream",
          "name": "stderr",
          "text": [
            "INFO:pyngrok.process.ngrok:t=2024-03-25T00:50:57+0000 lvl=info msg=\"join connections\" obj=join id=f546e7d16a82 l=127.0.0.1:8237 r=[2800:300:66d7:bd0::1]:56110\n"
          ]
        },
        {
          "output_type": "stream",
          "name": "stdout",
          "text": [
            "\u001b[1;35mt=2024-03-25T00:50:57+0000 lvl=info msg=\"join connections\" obj=join id=f546e7d16a82 l=127.0.0.1:8237 r=[2800:300:66d7:bd0::1]:56110\u001b[0m\n",
            "\u001b[1;35mGot token from cookie\u001b[0m\n",
            "\u001b[32mINFO\u001b[0m:     2800:300:66d7:bd0::1:0 - \"\u001b[1mGET /api/v1/runs?pipeline_id=18f8dd6a-95d9-4963-855c-e73efdeb19d6&sort_by=desc:created&logical_operator=and&page=1&size=10 HTTP/1.1\u001b[0m\" \u001b[32m200 OK\u001b[0m\n"
          ]
        },
        {
          "output_type": "stream",
          "name": "stderr",
          "text": [
            "INFO:pyngrok.process.ngrok:t=2024-03-25T00:51:04+0000 lvl=info msg=\"join connections\" obj=join id=43edcdc4d7ab l=127.0.0.1:8237 r=[2800:300:66d7:bd0::1]:56110\n"
          ]
        },
        {
          "output_type": "stream",
          "name": "stdout",
          "text": [
            "\u001b[1;35mt=2024-03-25T00:51:04+0000 lvl=info msg=\"join connections\" obj=join id=43edcdc4d7ab l=127.0.0.1:8237 r=[2800:300:66d7:bd0::1]:56110\u001b[0m\n",
            "\u001b[1;35mGot token from cookie\u001b[0m\n",
            "\u001b[32mINFO\u001b[0m:     2800:300:66d7:bd0::1:0 - \"\u001b[1mGET /api/v1/runs?pipeline_id=18f8dd6a-95d9-4963-855c-e73efdeb19d6&sort_by=desc:created&logical_operator=and&page=1&size=10 HTTP/1.1\u001b[0m\" \u001b[32m200 OK\u001b[0m\n"
          ]
        },
        {
          "output_type": "stream",
          "name": "stderr",
          "text": [
            "INFO:pyngrok.process.ngrok:t=2024-03-25T00:51:10+0000 lvl=info msg=\"join connections\" obj=join id=f3a05e25fd0c l=127.0.0.1:8237 r=[2800:300:66d7:bd0::1]:56110\n"
          ]
        },
        {
          "output_type": "stream",
          "name": "stdout",
          "text": [
            "\u001b[1;35mt=2024-03-25T00:51:10+0000 lvl=info msg=\"join connections\" obj=join id=f3a05e25fd0c l=127.0.0.1:8237 r=[2800:300:66d7:bd0::1]:56110\u001b[0m\n",
            "\u001b[1;35mGot token from cookie\u001b[0m\n",
            "\u001b[32mINFO\u001b[0m:     2800:300:66d7:bd0::1:0 - \"\u001b[1mGET /api/v1/runs?pipeline_id=18f8dd6a-95d9-4963-855c-e73efdeb19d6&sort_by=desc:created&logical_operator=and&page=1&size=10 HTTP/1.1\u001b[0m\" \u001b[32m200 OK\u001b[0m\n"
          ]
        },
        {
          "output_type": "stream",
          "name": "stderr",
          "text": [
            "INFO:pyngrok.process.ngrok:t=2024-03-25T00:51:16+0000 lvl=info msg=\"join connections\" obj=join id=7ef7a6aaf953 l=127.0.0.1:8237 r=[2800:300:66d7:bd0::1]:56110\n"
          ]
        },
        {
          "output_type": "stream",
          "name": "stdout",
          "text": [
            "\u001b[1;35mt=2024-03-25T00:51:16+0000 lvl=info msg=\"join connections\" obj=join id=7ef7a6aaf953 l=127.0.0.1:8237 r=[2800:300:66d7:bd0::1]:56110\u001b[0m\n",
            "\u001b[1;35mGot token from cookie\u001b[0m\n",
            "\u001b[32mINFO\u001b[0m:     2800:300:66d7:bd0::1:0 - \"\u001b[1mGET /api/v1/runs?pipeline_id=18f8dd6a-95d9-4963-855c-e73efdeb19d6&sort_by=desc:created&logical_operator=and&page=1&size=10 HTTP/1.1\u001b[0m\" \u001b[32m200 OK\u001b[0m\n"
          ]
        },
        {
          "output_type": "stream",
          "name": "stderr",
          "text": [
            "INFO:pyngrok.process.ngrok:t=2024-03-25T00:51:22+0000 lvl=info msg=\"join connections\" obj=join id=5f6781a78e49 l=127.0.0.1:8237 r=[2800:300:66d7:bd0::1]:56110\n"
          ]
        },
        {
          "output_type": "stream",
          "name": "stdout",
          "text": [
            "\u001b[1;35mt=2024-03-25T00:51:22+0000 lvl=info msg=\"join connections\" obj=join id=5f6781a78e49 l=127.0.0.1:8237 r=[2800:300:66d7:bd0::1]:56110\u001b[0m\n",
            "\u001b[1;35mGot token from cookie\u001b[0m\n",
            "\u001b[32mINFO\u001b[0m:     2800:300:66d7:bd0::1:0 - \"\u001b[1mGET /api/v1/runs?pipeline_id=18f8dd6a-95d9-4963-855c-e73efdeb19d6&sort_by=desc:created&logical_operator=and&page=1&size=10 HTTP/1.1\u001b[0m\" \u001b[32m200 OK\u001b[0m\n"
          ]
        },
        {
          "output_type": "stream",
          "name": "stderr",
          "text": [
            "INFO:pyngrok.process.ngrok:t=2024-03-25T00:51:27+0000 lvl=info msg=\"join connections\" obj=join id=4eff0f87d88f l=127.0.0.1:8237 r=[2800:300:66d7:bd0::1]:56110\n"
          ]
        },
        {
          "output_type": "stream",
          "name": "stdout",
          "text": [
            "\u001b[1;35mt=2024-03-25T00:51:27+0000 lvl=info msg=\"join connections\" obj=join id=4eff0f87d88f l=127.0.0.1:8237 r=[2800:300:66d7:bd0::1]:56110\u001b[0m\n",
            "\u001b[1;35mGot token from cookie\u001b[0m\n",
            "\u001b[32mINFO\u001b[0m:     2800:300:66d7:bd0::1:0 - \"\u001b[1mGET /api/v1/runs?pipeline_id=18f8dd6a-95d9-4963-855c-e73efdeb19d6&sort_by=desc:created&logical_operator=and&page=1&size=10 HTTP/1.1\u001b[0m\" \u001b[32m200 OK\u001b[0m\n"
          ]
        },
        {
          "output_type": "stream",
          "name": "stderr",
          "text": [
            "INFO:pyngrok.process.ngrok:t=2024-03-25T00:51:30+0000 lvl=info msg=\"join connections\" obj=join id=79bb61f95dfc l=127.0.0.1:8237 r=[2800:300:66d7:bd0::1]:56110\n"
          ]
        },
        {
          "output_type": "stream",
          "name": "stdout",
          "text": [
            "\u001b[1;35mGot token from cookie\u001b[0m\n",
            "\u001b[32mINFO\u001b[0m:     2800:300:66d7:bd0::1:0 - \"\u001b[1mGET /api/v1/workspaces HTTP/1.1\u001b[0m\" \u001b[32m200 OK\u001b[0m\n",
            "\u001b[1;35mt=2024-03-25T00:51:30+0000 lvl=info msg=\"join connections\" obj=join id=79bb61f95dfc l=127.0.0.1:8237 r=[2800:300:66d7:bd0::1]:56110\u001b[0m\n"
          ]
        },
        {
          "output_type": "stream",
          "name": "stderr",
          "text": [
            "INFO:pyngrok.process.ngrok:t=2024-03-25T00:51:30+0000 lvl=info msg=\"join connections\" obj=join id=5ae8030aea3c l=127.0.0.1:8237 r=[2800:300:66d7:bd0::1]:56110\n"
          ]
        },
        {
          "output_type": "stream",
          "name": "stdout",
          "text": [
            "\u001b[1;35mt=2024-03-25T00:51:30+0000 lvl=info msg=\"join connections\" obj=join id=5ae8030aea3c l=127.0.0.1:8237 r=[2800:300:66d7:bd0::1]:56110\u001b[0m\n",
            "\u001b[1;35mGot token from cookie\u001b[0m\n",
            "\u001b[32mINFO\u001b[0m:     2800:300:66d7:bd0::1:0 - \"\u001b[1mGET /api/v1/info HTTP/1.1\u001b[0m\" \u001b[32m200 OK\u001b[0m\n",
            "\u001b[32mINFO\u001b[0m:     2800:300:66d7:bd0::1:0 - \"\u001b[1mGET /api/v1/workspaces/default/pipelines?sort_by=desc:created&logical_operator=and&page=1&size=10 HTTP/1.1\u001b[0m\" \u001b[32m200 OK\u001b[0m\n"
          ]
        },
        {
          "output_type": "stream",
          "name": "stderr",
          "text": [
            "INFO:pyngrok.process.ngrok:t=2024-03-25T00:51:34+0000 lvl=info msg=\"join connections\" obj=join id=c742e9055690 l=127.0.0.1:8237 r=[2800:300:66d7:bd0::1]:56110\n"
          ]
        },
        {
          "output_type": "stream",
          "name": "stdout",
          "text": [
            "\u001b[1;35mGot token from cookie\u001b[0m\n",
            "\u001b[32mINFO\u001b[0m:     2800:300:66d7:bd0::1:0 - \"\u001b[1mGET /api/v1/workspaces HTTP/1.1\u001b[0m\" \u001b[32m200 OK\u001b[0m\n",
            "\u001b[1;35mGot token from cookie\u001b[0m\n",
            "\u001b[32mINFO\u001b[0m:     2800:300:66d7:bd0::1:0 - \"\u001b[1mGET /api/v1/runs?pipeline_id=18f8dd6a-95d9-4963-855c-e73efdeb19d6&sort_by=desc:created&logical_operator=and&page=1&size=10 HTTP/1.1\u001b[0m\" \u001b[32m200 OK\u001b[0m\n",
            "\u001b[1;35mt=2024-03-25T00:51:34+0000 lvl=info msg=\"join connections\" obj=join id=c742e9055690 l=127.0.0.1:8237 r=[2800:300:66d7:bd0::1]:56110\u001b[0m\n"
          ]
        },
        {
          "output_type": "stream",
          "name": "stderr",
          "text": [
            "INFO:pyngrok.process.ngrok:t=2024-03-25T00:51:34+0000 lvl=info msg=\"join connections\" obj=join id=b1f72d41ec39 l=127.0.0.1:8237 r=[2800:300:66d7:bd0::1]:56110\n"
          ]
        },
        {
          "output_type": "stream",
          "name": "stdout",
          "text": [
            "\u001b[1;35mt=2024-03-25T00:51:34+0000 lvl=info msg=\"join connections\" obj=join id=b1f72d41ec39 l=127.0.0.1:8237 r=[2800:300:66d7:bd0::1]:56110\u001b[0m\n",
            "\u001b[1;35mGot token from cookie\u001b[0m\n",
            "\u001b[32mINFO\u001b[0m:     2800:300:66d7:bd0::1:0 - \"\u001b[1mGET /api/v1/info HTTP/1.1\u001b[0m\" \u001b[32m200 OK\u001b[0m\n",
            "\u001b[32mINFO\u001b[0m:     2800:300:66d7:bd0::1:0 - \"\u001b[1mGET /api/v1/pipelines/18f8dd6a-95d9-4963-855c-e73efdeb19d6 HTTP/1.1\u001b[0m\" \u001b[32m200 OK\u001b[0m\n"
          ]
        },
        {
          "output_type": "stream",
          "name": "stderr",
          "text": [
            "INFO:pyngrok.process.ngrok:t=2024-03-25T00:51:37+0000 lvl=info msg=\"join connections\" obj=join id=9ff4298d7585 l=127.0.0.1:8237 r=[2800:300:66d7:bd0::1]:56110\n"
          ]
        },
        {
          "output_type": "stream",
          "name": "stdout",
          "text": [
            "\u001b[1;35mGot token from cookie\u001b[0m\n",
            "\u001b[1;35mGot token from cookie\u001b[0m\n",
            "\u001b[32mINFO\u001b[0m:     2800:300:66d7:bd0::1:0 - \"\u001b[1mGET /api/v1/workspaces HTTP/1.1\u001b[0m\" \u001b[32m200 OK\u001b[0m\n",
            "\u001b[32mINFO\u001b[0m:     2800:300:66d7:bd0::1:0 - \"\u001b[1mGET /api/v1/pipelines/18f8dd6a-95d9-4963-855c-e73efdeb19d6 HTTP/1.1\u001b[0m\" \u001b[32m200 OK\u001b[0m\n",
            "\u001b[1;35mt=2024-03-25T00:51:37+0000 lvl=info msg=\"join connections\" obj=join id=9ff4298d7585 l=127.0.0.1:8237 r=[2800:300:66d7:bd0::1]:56110\u001b[0m\n",
            "\u001b[32mINFO\u001b[0m:     2800:300:66d7:bd0::1:0 - \"\u001b[1mGET /api/v1/info HTTP/1.1\u001b[0m\" \u001b[32m200 OK\u001b[0m\n"
          ]
        },
        {
          "output_type": "stream",
          "name": "stderr",
          "text": [
            "INFO:pyngrok.process.ngrok:t=2024-03-25T00:52:05+0000 lvl=info msg=\"join connections\" obj=join id=0b35e59ec46d l=127.0.0.1:8237 r=[2800:300:66d7:bd0::1]:56110\n"
          ]
        },
        {
          "output_type": "stream",
          "name": "stdout",
          "text": [
            "\u001b[1;35mt=2024-03-25T00:52:05+0000 lvl=info msg=\"join connections\" obj=join id=0b35e59ec46d l=127.0.0.1:8237 r=[2800:300:66d7:bd0::1]:56110\u001b[0m\n"
          ]
        },
        {
          "output_type": "stream",
          "name": "stderr",
          "text": [
            "INFO:pyngrok.process.ngrok:t=2024-03-25T00:52:05+0000 lvl=info msg=\"join connections\" obj=join id=8afdca3d3f11 l=127.0.0.1:8237 r=[2800:300:66d7:bd0::1]:56110\n"
          ]
        },
        {
          "output_type": "stream",
          "name": "stdout",
          "text": [
            "\u001b[1;35mt=2024-03-25T00:52:05+0000 lvl=info msg=\"join connections\" obj=join id=8afdca3d3f11 l=127.0.0.1:8237 r=[2800:300:66d7:bd0::1]:56110\u001b[0m\n"
          ]
        },
        {
          "output_type": "stream",
          "name": "stderr",
          "text": [
            "INFO:pyngrok.process.ngrok:t=2024-03-25T00:52:05+0000 lvl=info msg=\"join connections\" obj=join id=11c449f943f2 l=127.0.0.1:8237 r=[2800:300:66d7:bd0::1]:56110\n"
          ]
        },
        {
          "output_type": "stream",
          "name": "stdout",
          "text": [
            "\u001b[1;35mt=2024-03-25T00:52:05+0000 lvl=info msg=\"join connections\" obj=join id=11c449f943f2 l=127.0.0.1:8237 r=[2800:300:66d7:bd0::1]:56110\u001b[0m\n",
            "\u001b[1;35mGot token from cookie\u001b[0m\n",
            "\u001b[32mINFO\u001b[0m:     2800:300:66d7:bd0::1:0 - \"\u001b[1mGET /api/v1/workspaces HTTP/1.1\u001b[0m\" \u001b[32m200 OK\u001b[0m\n",
            "\u001b[32mINFO\u001b[0m:     2800:300:66d7:bd0::1:0 - \"\u001b[1mGET /api/v1/info HTTP/1.1\u001b[0m\" \u001b[32m200 OK\u001b[0m\n",
            "\u001b[1;35mGot token from cookie\u001b[0m\n",
            "\u001b[32mINFO\u001b[0m:     2800:300:66d7:bd0::1:0 - \"\u001b[1mGET /api/v1/workspaces/default/pipelines?sort_by=desc:created&logical_operator=and&page=1&size=10 HTTP/1.1\u001b[0m\" \u001b[32m200 OK\u001b[0m\n"
          ]
        },
        {
          "output_type": "stream",
          "name": "stderr",
          "text": [
            "INFO:pyngrok.process.ngrok:t=2024-03-25T00:52:10+0000 lvl=info msg=\"join connections\" obj=join id=f93e0450c011 l=127.0.0.1:8237 r=[2800:300:66d7:bd0::1]:56110\n"
          ]
        },
        {
          "output_type": "stream",
          "name": "stdout",
          "text": [
            "\u001b[1;35mt=2024-03-25T00:52:10+0000 lvl=info msg=\"join connections\" obj=join id=f93e0450c011 l=127.0.0.1:8237 r=[2800:300:66d7:bd0::1]:56110\u001b[0m\n",
            "\u001b[1;35mGot token from cookie\u001b[0m\n",
            "\u001b[32mINFO\u001b[0m:     2800:300:66d7:bd0::1:0 - \"\u001b[1mGET /api/v1/workspaces/default/pipelines?sort_by=desc:version&logical_operator=and&page=1&size=10 HTTP/1.1\u001b[0m\" \u001b[32m200 OK\u001b[0m\n",
            "\u001b[1;35mGot token from cookie\u001b[0m\n",
            "\u001b[32mINFO\u001b[0m:     2800:300:66d7:bd0::1:0 - \"\u001b[1mGET /api/v1/workspaces/default/pipelines?sort_by=desc:created&logical_operator=and&page=1&size=10 HTTP/1.1\u001b[0m\" \u001b[32m200 OK\u001b[0m\n"
          ]
        },
        {
          "output_type": "stream",
          "name": "stderr",
          "text": [
            "INFO:pyngrok.process.ngrok:t=2024-03-25T00:52:18+0000 lvl=info msg=\"join connections\" obj=join id=adeb9901faa1 l=127.0.0.1:8237 r=[2800:300:66d7:bd0::1]:56110\n"
          ]
        },
        {
          "output_type": "stream",
          "name": "stdout",
          "text": [
            "\u001b[1;35mGot token from cookie\u001b[0m\n",
            "\u001b[32mINFO\u001b[0m:     2800:300:66d7:bd0::1:0 - \"\u001b[1mGET /api/v1/runs?pipeline_id=18f8dd6a-95d9-4963-855c-e73efdeb19d6&sort_by=desc:created&logical_operator=and&page=1&size=10 HTTP/1.1\u001b[0m\" \u001b[32m200 OK\u001b[0m\n",
            "\u001b[1;35mt=2024-03-25T00:52:18+0000 lvl=info msg=\"join connections\" obj=join id=adeb9901faa1 l=127.0.0.1:8237 r=[2800:300:66d7:bd0::1]:56110\u001b[0m\n"
          ]
        },
        {
          "output_type": "stream",
          "name": "stderr",
          "text": [
            "INFO:pyngrok.process.ngrok:t=2024-03-25T00:52:18+0000 lvl=info msg=\"join connections\" obj=join id=fa73f8c7748e l=127.0.0.1:8237 r=[2800:300:66d7:bd0::1]:56110\n"
          ]
        },
        {
          "output_type": "stream",
          "name": "stdout",
          "text": [
            "\u001b[1;35mt=2024-03-25T00:52:18+0000 lvl=info msg=\"join connections\" obj=join id=fa73f8c7748e l=127.0.0.1:8237 r=[2800:300:66d7:bd0::1]:56110\u001b[0m\n"
          ]
        },
        {
          "output_type": "stream",
          "name": "stderr",
          "text": [
            "INFO:pyngrok.process.ngrok:t=2024-03-25T00:52:18+0000 lvl=info msg=\"join connections\" obj=join id=8de2c025d79c l=127.0.0.1:8237 r=[2800:300:66d7:bd0::1]:56110\n"
          ]
        },
        {
          "output_type": "stream",
          "name": "stdout",
          "text": [
            "\u001b[1;35mGot token from cookie\u001b[0m\n",
            "\u001b[1;35mt=2024-03-25T00:52:18+0000 lvl=info msg=\"join connections\" obj=join id=8de2c025d79c l=127.0.0.1:8237 r=[2800:300:66d7:bd0::1]:56110\u001b[0m\n",
            "\u001b[32mINFO\u001b[0m:     2800:300:66d7:bd0::1:0 - \"\u001b[1mGET /api/v1/info HTTP/1.1\u001b[0m\" \u001b[32m200 OK\u001b[0m\n",
            "\u001b[1;35mGot token from cookie\u001b[0m\n",
            "\u001b[32mINFO\u001b[0m:     2800:300:66d7:bd0::1:0 - \"\u001b[1mGET /api/v1/workspaces HTTP/1.1\u001b[0m\" \u001b[32m200 OK\u001b[0m\n",
            "\u001b[32mINFO\u001b[0m:     2800:300:66d7:bd0::1:0 - \"\u001b[1mGET /api/v1/pipelines/18f8dd6a-95d9-4963-855c-e73efdeb19d6 HTTP/1.1\u001b[0m\" \u001b[32m200 OK\u001b[0m\n"
          ]
        },
        {
          "output_type": "stream",
          "name": "stderr",
          "text": [
            "INFO:pyngrok.process.ngrok:t=2024-03-25T00:52:23+0000 lvl=info msg=\"join connections\" obj=join id=4ad761dde6e5 l=127.0.0.1:8237 r=[2800:300:66d7:bd0::1]:56110\n"
          ]
        },
        {
          "output_type": "stream",
          "name": "stdout",
          "text": [
            "\u001b[1;35mt=2024-03-25T00:52:23+0000 lvl=info msg=\"join connections\" obj=join id=4ad761dde6e5 l=127.0.0.1:8237 r=[2800:300:66d7:bd0::1]:56110\u001b[0m\n",
            "\u001b[1;35mGot token from cookie\u001b[0m\n",
            "\u001b[32mINFO\u001b[0m:     2800:300:66d7:bd0::1:0 - \"\u001b[1mGET /api/v1/runs?pipeline_id=18f8dd6a-95d9-4963-855c-e73efdeb19d6&sort_by=desc:created&logical_operator=and&page=1&size=10 HTTP/1.1\u001b[0m\" \u001b[32m200 OK\u001b[0m\n"
          ]
        },
        {
          "output_type": "stream",
          "name": "stderr",
          "text": [
            "INFO:pyngrok.process.ngrok:t=2024-03-25T00:52:24+0000 lvl=info msg=\"join connections\" obj=join id=772d8cc0ec80 l=127.0.0.1:8237 r=[2800:300:66d7:bd0::1]:56110\n"
          ]
        },
        {
          "output_type": "stream",
          "name": "stdout",
          "text": [
            "\u001b[1;35mGot token from cookie\u001b[0m\n",
            "\u001b[32mINFO\u001b[0m:     2800:300:66d7:bd0::1:0 - \"\u001b[1mGET /api/v1/workspaces HTTP/1.1\u001b[0m\" \u001b[32m200 OK\u001b[0m\n",
            "\u001b[1;35mt=2024-03-25T00:52:24+0000 lvl=info msg=\"join connections\" obj=join id=772d8cc0ec80 l=127.0.0.1:8237 r=[2800:300:66d7:bd0::1]:56110\u001b[0m\n"
          ]
        },
        {
          "output_type": "stream",
          "name": "stderr",
          "text": [
            "INFO:pyngrok.process.ngrok:t=2024-03-25T00:52:24+0000 lvl=info msg=\"join connections\" obj=join id=2f91f7513c4c l=127.0.0.1:8237 r=[2800:300:66d7:bd0::1]:56110\n"
          ]
        },
        {
          "output_type": "stream",
          "name": "stdout",
          "text": [
            "\u001b[1;35mt=2024-03-25T00:52:24+0000 lvl=info msg=\"join connections\" obj=join id=2f91f7513c4c l=127.0.0.1:8237 r=[2800:300:66d7:bd0::1]:56110\u001b[0m\n",
            "\u001b[32mINFO\u001b[0m:     2800:300:66d7:bd0::1:0 - \"\u001b[1mGET /api/v1/info HTTP/1.1\u001b[0m\" \u001b[32m200 OK\u001b[0m\n",
            "\u001b[1;35mGot token from cookie\u001b[0m\n",
            "\u001b[32mINFO\u001b[0m:     2800:300:66d7:bd0::1:0 - \"\u001b[1mGET /api/v1/runs/274da157-bec2-4a62-9b56-ad9dd2c5e2bc HTTP/1.1\u001b[0m\" \u001b[32m200 OK\u001b[0m\n",
            "\u001b[1;35mGot token from cookie\u001b[0m\n",
            "\u001b[32mINFO\u001b[0m:     2800:300:66d7:bd0::1:0 - \"\u001b[1mGET /api/v1/runs/274da157-bec2-4a62-9b56-ad9dd2c5e2bc/graph HTTP/1.1\u001b[0m\" \u001b[32m200 OK\u001b[0m\n",
            "\u001b[32mINFO\u001b[0m:     2800:300:66d7:bd0::1:0 - \"\u001b[1mGET /media/arrowClose.cbd53f3f.svg HTTP/1.1\u001b[0m\" \u001b[32m200 OK\u001b[0m\n",
            "\u001b[1;35mGot token from cookie\u001b[0m\n",
            "\u001b[32mINFO\u001b[0m:     2800:300:66d7:bd0::1:0 - \"\u001b[1mGET /api/v1/run-metadata?pipeline_run_id=274da157-bec2-4a62-9b56-ad9dd2c5e2bc&key=orchestrator_url HTTP/1.1\u001b[0m\" \u001b[32m200 OK\u001b[0m\n"
          ]
        },
        {
          "output_type": "stream",
          "name": "stderr",
          "text": [
            "INFO:pyngrok.process.ngrok:t=2024-03-25T00:52:48+0000 lvl=info msg=\"join connections\" obj=join id=a6349d78682d l=127.0.0.1:8237 r=[2800:300:66d7:bd0::1]:56110\n"
          ]
        },
        {
          "output_type": "stream",
          "name": "stdout",
          "text": [
            "\u001b[1;35mt=2024-03-25T00:52:48+0000 lvl=info msg=\"join connections\" obj=join id=a6349d78682d l=127.0.0.1:8237 r=[2800:300:66d7:bd0::1]:56110\u001b[0m\n"
          ]
        },
        {
          "output_type": "stream",
          "name": "stderr",
          "text": [
            "INFO:pyngrok.process.ngrok:t=2024-03-25T00:52:48+0000 lvl=info msg=\"join connections\" obj=join id=e8a3a2038088 l=127.0.0.1:8237 r=[2800:300:66d7:bd0::1]:56110\n"
          ]
        },
        {
          "output_type": "stream",
          "name": "stdout",
          "text": [
            "\u001b[1;35mt=2024-03-25T00:52:48+0000 lvl=info msg=\"join connections\" obj=join id=e8a3a2038088 l=127.0.0.1:8237 r=[2800:300:66d7:bd0::1]:56110\u001b[0m\n",
            "\u001b[32mINFO\u001b[0m:     2800:300:66d7:bd0::1:0 - \"\u001b[1mGET /media/circleArrowSideOpen.63653df6.svg HTTP/1.1\u001b[0m\" \u001b[32m200 OK\u001b[0m\n",
            "\u001b[1;35mGot token from cookie\u001b[0m\n",
            "\u001b[32mINFO\u001b[0m:     2800:300:66d7:bd0::1:0 - \"\u001b[1mGET /api/v1/steps/31be9150-da67-4485-9037-3197731ef432 HTTP/1.1\u001b[0m\" \u001b[32m200 OK\u001b[0m\n"
          ]
        },
        {
          "output_type": "stream",
          "name": "stderr",
          "text": [
            "INFO:pyngrok.process.ngrok:t=2024-03-25T00:52:54+0000 lvl=info msg=\"join connections\" obj=join id=8c2c926aaa50 l=127.0.0.1:8237 r=[2800:300:66d7:bd0::1]:56110\n"
          ]
        },
        {
          "output_type": "stream",
          "name": "stdout",
          "text": [
            "\u001b[1;35mt=2024-03-25T00:52:54+0000 lvl=info msg=\"join connections\" obj=join id=8c2c926aaa50 l=127.0.0.1:8237 r=[2800:300:66d7:bd0::1]:56110\u001b[0m\n",
            "\u001b[1;35mGot token from cookie\u001b[0m\n",
            "\u001b[32mINFO\u001b[0m:     2800:300:66d7:bd0::1:0 - \"\u001b[1mGET /api/v1/steps/31be9150-da67-4485-9037-3197731ef432/logs HTTP/1.1\u001b[0m\" \u001b[32m200 OK\u001b[0m\n",
            "\u001b[1;35mGot token from cookie\u001b[0m\n",
            "\u001b[32mINFO\u001b[0m:     2800:300:66d7:bd0::1:0 - \"\u001b[1mGET /api/v1/steps/31be9150-da67-4485-9037-3197731ef432/logs HTTP/1.1\u001b[0m\" \u001b[32m200 OK\u001b[0m\n"
          ]
        },
        {
          "output_type": "stream",
          "name": "stderr",
          "text": [
            "INFO:pyngrok.process.ngrok:t=2024-03-25T00:53:04+0000 lvl=info msg=\"join connections\" obj=join id=30b3fdc97e9a l=127.0.0.1:8237 r=[2800:300:66d7:bd0::1]:56110\n"
          ]
        },
        {
          "output_type": "stream",
          "name": "stdout",
          "text": [
            "\u001b[1;35mt=2024-03-25T00:53:04+0000 lvl=info msg=\"join connections\" obj=join id=30b3fdc97e9a l=127.0.0.1:8237 r=[2800:300:66d7:bd0::1]:56110\u001b[0m\n",
            "\u001b[32mINFO\u001b[0m:     2800:300:66d7:bd0::1:0 - \"\u001b[1mGET /media/circleArrowSideClose.98d6013e.svg HTTP/1.1\u001b[0m\" \u001b[32m200 OK\u001b[0m\n"
          ]
        },
        {
          "output_type": "stream",
          "name": "stderr",
          "text": [
            "INFO:pyngrok.process.ngrok:t=2024-03-25T00:53:41+0000 lvl=info msg=\"join connections\" obj=join id=1e5ad9f30fb0 l=127.0.0.1:8237 r=[2800:300:66d7:bd0::1]:56110\n"
          ]
        },
        {
          "output_type": "stream",
          "name": "stdout",
          "text": [
            "\u001b[1;35mt=2024-03-25T00:53:41+0000 lvl=info msg=\"join connections\" obj=join id=1e5ad9f30fb0 l=127.0.0.1:8237 r=[2800:300:66d7:bd0::1]:56110\u001b[0m\n",
            "\u001b[1;35mGot token from cookie\u001b[0m\n",
            "\u001b[32mINFO\u001b[0m:     2800:300:66d7:bd0::1:0 - \"\u001b[1mGET /api/v1/steps/7f5b11ff-7bfb-41b7-a7d1-86ed83bbb8e2 HTTP/1.1\u001b[0m\" \u001b[32m200 OK\u001b[0m\n"
          ]
        },
        {
          "output_type": "stream",
          "name": "stderr",
          "text": [
            "INFO:pyngrok.process.ngrok:t=2024-03-25T00:53:47+0000 lvl=info msg=\"join connections\" obj=join id=a04f6aa85207 l=127.0.0.1:8237 r=[2800:300:66d7:bd0::1]:56110\n"
          ]
        },
        {
          "output_type": "stream",
          "name": "stdout",
          "text": [
            "\u001b[1;35mt=2024-03-25T00:53:47+0000 lvl=info msg=\"join connections\" obj=join id=a04f6aa85207 l=127.0.0.1:8237 r=[2800:300:66d7:bd0::1]:56110\u001b[0m\n",
            "\u001b[1;35mGot token from cookie\u001b[0m\n",
            "\u001b[32mINFO\u001b[0m:     2800:300:66d7:bd0::1:0 - \"\u001b[1mGET /api/v1/steps/31be9150-da67-4485-9037-3197731ef432 HTTP/1.1\u001b[0m\" \u001b[32m200 OK\u001b[0m\n"
          ]
        },
        {
          "output_type": "stream",
          "name": "stderr",
          "text": [
            "INFO:pyngrok.process.ngrok:t=2024-03-25T00:54:01+0000 lvl=info msg=\"join connections\" obj=join id=a81e853673be l=127.0.0.1:8237 r=[2800:300:66d7:bd0::1]:56110\n"
          ]
        },
        {
          "output_type": "stream",
          "name": "stdout",
          "text": [
            "\u001b[1;35mt=2024-03-25T00:54:01+0000 lvl=info msg=\"join connections\" obj=join id=a81e853673be l=127.0.0.1:8237 r=[2800:300:66d7:bd0::1]:56110\u001b[0m\n",
            "\u001b[32mINFO\u001b[0m:     2800:300:66d7:bd0::1:0 - \"\u001b[1mGET /media/arrowOpen.6ceef0af.svg HTTP/1.1\u001b[0m\" \u001b[32m200 OK\u001b[0m\n"
          ]
        },
        {
          "output_type": "stream",
          "name": "stderr",
          "text": [
            "INFO:pyngrok.process.ngrok:t=2024-03-25T00:54:59+0000 lvl=info msg=\"received stop request\" obj=app stopReq=\"{err:<nil> restart:false}\"\n"
          ]
        },
        {
          "output_type": "stream",
          "name": "stdout",
          "text": [
            "\u001b[1;35mt=2024-03-25T00:54:59+0000 lvl=info msg=\"received stop request\" obj=app stopReq=\"{err:<nil> restart:false}\"\u001b[0m\n"
          ]
        },
        {
          "output_type": "stream",
          "name": "stderr",
          "text": [
            "INFO:pyngrok.process.ngrok:t=2024-03-25T00:54:59+0000 lvl=info msg=\"session closing\" obj=tunnels.session err=nil\n"
          ]
        },
        {
          "output_type": "stream",
          "name": "stdout",
          "text": [
            "\u001b[1;35mt=2024-03-25T00:54:59+0000 lvl=info msg=\"session closing\" obj=tunnels.session err=nil\u001b[0m\n",
            "\u001b[32mINFO\u001b[0m:     Shutting down\n",
            "\u001b[32mINFO\u001b[0m:     Finished server process [\u001b[36m7943\u001b[0m]\n",
            "\u001b[31mERROR\u001b[0m:    Traceback (most recent call last):\n",
            "  File \"/usr/lib/python3.10/asyncio/runners.py\", line 44, in run\n",
            "    return loop.run_until_complete(main)\n",
            "  File \"uvloop/loop.pyx\", line 1511, in uvloop.loop.Loop.run_until_complete\n",
            "  File \"uvloop/loop.pyx\", line 1504, in uvloop.loop.Loop.run_until_complete\n",
            "  File \"uvloop/loop.pyx\", line 1377, in uvloop.loop.Loop.run_forever\n",
            "  File \"uvloop/loop.pyx\", line 555, in uvloop.loop.Loop._run\n",
            "  File \"uvloop/loop.pyx\", line 474, in uvloop.loop.Loop._on_idle\n",
            "  File \"uvloop/cbhandles.pyx\", line 83, in uvloop.loop.Handle._run\n",
            "  File \"uvloop/cbhandles.pyx\", line 63, in uvloop.loop.Handle._run\n",
            "  File \"/usr/local/lib/python3.10/dist-packages/uvicorn/server.py\", line 68, in serve\n",
            "    with self.capture_signals():\n",
            "  File \"/usr/lib/python3.10/contextlib.py\", line 142, in __exit__\n",
            "    next(self.gen)\n",
            "  File \"/usr/local/lib/python3.10/dist-packages/uvicorn/server.py\", line 328, in capture_signals\n",
            "    signal.raise_signal(captured_signal)\n",
            "KeyboardInterrupt\n",
            "\n",
            "During handling of the above exception, another exception occurred:\n",
            "\n",
            "Traceback (most recent call last):\n",
            "  File \"/usr/local/lib/python3.10/dist-packages/starlette/routing.py\", line 686, in lifespan\n",
            "    await receive()\n",
            "  File \"/usr/local/lib/python3.10/dist-packages/uvicorn/lifespan/on.py\", line 137, in receive\n",
            "    return await self.receive_queue.get()\n",
            "  File \"/usr/lib/python3.10/asyncio/queues.py\", line 159, in get\n",
            "    await getter\n",
            "asyncio.exceptions.CancelledError\n",
            "\n",
            "\u001b[1;35mZenML Server stopped. Resuming normal execution.\u001b[0m\n"
          ]
        }
      ]
    }
  ]
}